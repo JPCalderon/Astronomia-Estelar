{
 "cells": [
  {
   "cell_type": "markdown",
   "metadata": {
    "colab_type": "text",
    "id": "oU2Y1VmujTMw"
   },
   "source": [
    "# **Efecto del material interestelar**\n",
    "\n",
    "**Resumen**\n",
    "\n",
    "La radiación estelar sufre cambios al interactuar con el material interestelar que se encuentra entre la fuente y el observador. La extinción de la luz, producida por absorciones y dispersiones en el medio, es un efecto que depende de la longitud de onda, y como consecuencia de estos cambios en el espectro estelar, los índices de color de las estrellas se enrojecen, a la vez que disminuye el brillo estelar observado. El objetivo de esta práctica es familiarizarse con estos efectos a través de ejercicios con datos reales que obtendremos de bases de datos astronómicas."
   ]
  },
  {
   "cell_type": "markdown",
   "metadata": {
    "colab_type": "text",
    "id": "yCpHKEe6kmz5"
   },
   "source": [
    "#### Ejercicio 1.\n",
    "\n",
    "Describa cualitativamente los distintos ambientes en los que se encuentra el material interestelar, y qué efectos tiene sobre la radiación que recibimos de las estrellas."
   ]
  },
  {
   "cell_type": "markdown",
   "metadata": {
    "colab_type": "text",
    "id": "bGWdS2M-kuN0"
   },
   "source": [
    "#### Ejercicio 2.\n",
    "\n",
    "Dadas las siguientes 6 estrellas en la región de Cygnus, calcule la distancia a cada una de ellas en\n",
    "parsecs:\n",
    "\n",
    "HD 228452\n",
    "HD 192557\n",
    "HD 192605\n",
    "TYC 2684-1684-1\n",
    "HD 192164\n",
    "HD 228119\n",
    "\n",
    "Proceda de la siguiente forma:"
   ]
  },
  {
   "cell_type": "markdown",
   "metadata": {},
   "source": [
    "(a) Busque las estrellas por identificador. Obtenga el tipo espectral y las magnitudes aparentes ($m_V$ y $m_B$) de la base de datos de Simbad (http://simbad.u-strasbg.fr/simbad/sim-fid).\n",
    "\n",
    "Pero también con python:"
   ]
  },
  {
   "cell_type": "code",
   "execution_count": 81,
   "metadata": {},
   "outputs": [
    {
     "name": "stdout",
     "output_type": "stream",
     "text": [
      "--NOTES--\n",
      "\n",
      "1. The parameter filtername must correspond to an existing filter. Filters include: B,V,R,I,J,K.  They are checked by SIMBAD but not astroquery.simbad\n",
      "\n",
      "2. Fields beginning with rvz display the data as it is in the database. Fields beginning with rv force the display as a radial velocity. Fields beginning with z force the display as a redshift\n",
      "\n",
      "3. For each measurement catalog, the VOTable contains all fields of the first measurement. When applicable, the first measurement is the mean one. \n",
      "\n",
      "Available VOTABLE fields:\n",
      "\n",
      "bibcodelist(y1-y2)\n",
      "biblio\n",
      "cel\n",
      "cl.g\n",
      "coo(opt)\n",
      "coo_bibcode\n",
      "coo_err_angle\n",
      "coo_err_maja\n",
      "coo_err_mina\n",
      "coo_qual\n",
      "coo_wavelength\n",
      "coordinates\n",
      "dec(opt)\n",
      "dec_prec\n",
      "diameter\n",
      "dim\n",
      "dim_angle\n",
      "dim_bibcode\n",
      "dim_incl\n",
      "dim_majaxis\n",
      "dim_minaxis\n",
      "dim_qual\n",
      "dim_wavelength\n",
      "dimensions\n",
      "distance\n",
      "distance_result\n",
      "einstein\n",
      "fe_h\n",
      "flux(filtername)\n",
      "flux_bibcode(filtername)\n",
      "flux_error(filtername)\n",
      "flux_name(filtername)\n",
      "flux_qual(filtername)\n",
      "flux_system(filtername)\n",
      "flux_unit(filtername)\n",
      "fluxdata(filtername)\n",
      "gcrv\n",
      "gen\n",
      "gj\n",
      "hbet\n",
      "hbet1\n",
      "hgam\n",
      "id(opt)\n",
      "ids\n",
      "iras\n",
      "irc\n",
      "iso\n",
      "iue\n",
      "jp11\n",
      "link_bibcode\n",
      "main_id\n",
      "measurements\n",
      "membership\n",
      "mesplx\n",
      "mespm\n",
      "mk\n",
      "morphtype\n",
      "mt\n",
      "mt_bibcode\n",
      "mt_qual\n",
      "otype\n",
      "otype(opt)\n",
      "otypes\n",
      "parallax\n",
      "plx\n",
      "plx_bibcode\n",
      "plx_error\n",
      "plx_prec\n",
      "plx_qual\n",
      "pm\n",
      "pm_bibcode\n",
      "pm_err_angle\n",
      "pm_err_maja\n",
      "pm_err_mina\n",
      "pm_qual\n",
      "pmdec\n",
      "pmdec_prec\n",
      "pmra\n",
      "pmra_prec\n",
      "pos\n",
      "posa\n",
      "propermotions\n",
      "ra(opt)\n",
      "ra_prec\n",
      "rot\n",
      "rv_value\n",
      "rvz_bibcode\n",
      "rvz_error\n",
      "rvz_qual\n",
      "rvz_radvel\n",
      "rvz_type\n",
      "rvz_wavelength\n",
      "sao\n",
      "sp\n",
      "sp_bibcode\n",
      "sp_nature\n",
      "sp_qual\n",
      "sptype\n",
      "td1\n",
      "typed_id\n",
      "ubv\n",
      "uvby\n",
      "uvby1\n",
      "v*\n",
      "velocity\n",
      "xmm\n",
      "z_value\n",
      "For more information on a field:\n",
      "Simbad.get_field_description ('field_name') \n",
      "Currently active VOTABLE fields:\n",
      " ['main_id', 'coordinates']\n"
     ]
    }
   ],
   "source": [
    "from astroquery.simbad import Simbad\n",
    "# Para saber qué podemos \"consultar\"\n",
    "Simbad.list_votable_fields()"
   ]
  },
  {
   "cell_type": "code",
   "execution_count": 97,
   "metadata": {},
   "outputs": [
    {
     "data": {
      "text/html": [
       "<i>Table length=6</i>\n",
       "<table id=\"table140175217069904\" class=\"table-striped table-bordered table-condensed\">\n",
       "<thead><tr><th>MAIN_ID</th><th>RA</th><th>DEC</th><th>RA_PREC</th><th>DEC_PREC</th><th>COO_ERR_MAJA</th><th>COO_ERR_MINA</th><th>COO_ERR_ANGLE</th><th>COO_QUAL</th><th>COO_WAVELENGTH</th><th>COO_BIBCODE</th><th>RA_2</th><th>DEC_2</th><th>SP_TYPE</th><th>SP_QUAL</th><th>SP_BIBCODE</th><th>SP_BIBCODE_2</th><th>FLUX_B</th><th>FLUX_V</th><th>FLUX_BIBCODE_B</th><th>FLUX_BIBCODE_V</th></tr></thead>\n",
       "<thead><tr><th></th><th>&quot;h:m:s&quot;</th><th>&quot;d:m:s&quot;</th><th></th><th></th><th>mas</th><th>mas</th><th>deg</th><th></th><th></th><th></th><th>&quot;h:m:s&quot;</th><th>&quot;d:m:s&quot;</th><th></th><th></th><th></th><th></th><th>mag</th><th>mag</th><th></th><th></th></tr></thead>\n",
       "<thead><tr><th>object</th><th>str13</th><th>str13</th><th>int16</th><th>int16</th><th>float32</th><th>float32</th><th>int16</th><th>str1</th><th>str1</th><th>object</th><th>str13</th><th>str13</th><th>object</th><th>str1</th><th>object</th><th>object</th><th>float32</th><th>float32</th><th>object</th><th>object</th></tr></thead>\n",
       "<tr><td>HD   5980</td><td>00 59 26.5847</td><td>-72 09 53.927</td><td>14</td><td>14</td><td>0.045</td><td>0.031</td><td>90</td><td>A</td><td>O</td><td>2018yCat.1345....0G</td><td>00 59 26.5847</td><td>-72 09 53.927</td><td>WN4+O7I:</td><td>C</td><td>1982ApJ...257..116B</td><td>1982ApJ...257..116B</td><td>11.13</td><td>11.31</td><td>2000A&amp;A...355L..27H</td><td>2000A&amp;A...355L..27H</td></tr>\n",
       "<tr><td>HD 192557</td><td>20 14 13.9296</td><td>+35 21 42.012</td><td>14</td><td>14</td><td>0.022</td><td>0.027</td><td>90</td><td>A</td><td>O</td><td>2018yCat.1345....0G</td><td>20 14 13.9296</td><td>+35 21 42.012</td><td>F6V</td><td>C</td><td></td><td></td><td>8.08</td><td>7.59</td><td></td><td></td></tr>\n",
       "<tr><td>HD 192605</td><td>20 14 25.2415</td><td>+35 37 20.339</td><td>14</td><td>14</td><td>0.027</td><td>0.033</td><td>90</td><td>A</td><td>O</td><td>2018yCat.1345....0G</td><td>20 14 25.2415</td><td>+35 37 20.339</td><td>B9V</td><td>C</td><td></td><td></td><td>8.68</td><td>8.71</td><td></td><td></td></tr>\n",
       "<tr><td>TYC 2684-1684-1</td><td>20 16 28.1923</td><td>+35 45 49.569</td><td>14</td><td>14</td><td>0.021</td><td>0.026</td><td>90</td><td>A</td><td>O</td><td>2018yCat.1345....0G</td><td>20 16 28.1923</td><td>+35 45 49.569</td><td>G2V</td><td>D</td><td></td><td></td><td>11.62</td><td>10.92</td><td>2000A&amp;A...355L..27H</td><td>2000A&amp;A...355L..27H</td></tr>\n",
       "<tr><td>HD 192164</td><td>20 12 18.3068</td><td>+34 51 10.696</td><td>14</td><td>14</td><td>0.020</td><td>0.024</td><td>90</td><td>A</td><td>O</td><td>2018yCat.1345....0G</td><td>20 12 18.3068</td><td>+34 51 10.696</td><td>K2V</td><td>C</td><td></td><td></td><td>9.29</td><td>7.8</td><td></td><td></td></tr>\n",
       "<tr><td>HD 228119</td><td>20 10 47.9429</td><td>+35 08 05.943</td><td>14</td><td>14</td><td>0.023</td><td>0.030</td><td>90</td><td>A</td><td>O</td><td>2018yCat.1345....0G</td><td>20 10 47.9429</td><td>+35 08 05.943</td><td>A3V</td><td>C</td><td></td><td></td><td>9.904</td><td>9.758</td><td>2000A&amp;A...355L..27H</td><td>2000A&amp;A...355L..27H</td></tr>\n",
       "</table>"
      ],
      "text/plain": [
       "<Table length=6>\n",
       "    MAIN_ID           RA      ...    FLUX_BIBCODE_B      FLUX_BIBCODE_V  \n",
       "                   \"h:m:s\"    ...                                        \n",
       "     object         str13     ...        object              object      \n",
       "--------------- ------------- ... ------------------- -------------------\n",
       "      HD   5980 00 59 26.5847 ... 2000A&A...355L..27H 2000A&A...355L..27H\n",
       "      HD 192557 20 14 13.9296 ...                                        \n",
       "      HD 192605 20 14 25.2415 ...                                        \n",
       "TYC 2684-1684-1 20 16 28.1923 ... 2000A&A...355L..27H 2000A&A...355L..27H\n",
       "      HD 192164 20 12 18.3068 ...                                        \n",
       "      HD 228119 20 10 47.9429 ... 2000A&A...355L..27H 2000A&A...355L..27H"
      ]
     },
     "execution_count": 97,
     "metadata": {},
     "output_type": "execute_result"
    }
   ],
   "source": [
    "from astroquery.simbad import Simbad\n",
    "customSimbad = Simbad()\n",
    "customSimbad.add_votable_fields('ra', 'dec','sptype','sp_bibcode','flux(B)','flux(V)','flux_bibcode(B)', 'flux_bibcode(V)') #,'parallax')\n",
    "result_table = customSimbad.query_objects([\"HD 228452\", \"HD 192557\", \"HD 192605\",\"TYC 2684-1684-1\",\"HD 192164\",\"HD 228119\"])\n",
    "result_table"
   ]
  },
  {
   "cell_type": "code",
   "execution_count": 98,
   "metadata": {},
   "outputs": [
    {
     "name": "stdout",
     "output_type": "stream",
     "text": [
      "    MAIN_ID     SP_TYPE  FLUX_B FLUX_V\n",
      "                          mag    mag  \n",
      "--------------- -------- ------ ------\n",
      "      HD   5980 WN4+O7I:  11.13  11.31\n",
      "      HD 192557      F6V   8.08   7.59\n",
      "      HD 192605      B9V   8.68   8.71\n",
      "TYC 2684-1684-1      G2V  11.62  10.92\n",
      "      HD 192164      K2V   9.29    7.8\n",
      "      HD 228119      A3V  9.904  9.758\n"
     ]
    }
   ],
   "source": [
    "#Ver resultados de otra manera\n",
    "print(result_table['MAIN_ID','SP_TYPE','FLUX_B','FLUX_V'])"
   ]
  },
  {
   "cell_type": "markdown",
   "metadata": {},
   "source": [
    "(b) Obtenga las magnitudes absolutas $M_V$ y el índice de color intrínseco ($B−V$) para cada estrella, según su tipo espectral de Cox (2000, ver Tabla 15.7).\n",
    "\n",
    "Link: http://astronomiaestelarlp.pbworks.com/w/file/109924168/Allen%27s%20Astrophysical%20Quantities%20%284th%20Ed%29%20-%20Cox%2C%20A.N.%20%28ed.%29%20-%20Springer%20-%202001%20-%20ISBN%2097803879518.pdf\n"
   ]
  },
  {
   "cell_type": "code",
   "execution_count": 84,
   "metadata": {},
   "outputs": [
    {
     "name": "stdout",
     "output_type": "stream",
     "text": [
      "    MAIN_ID     SP_TYPE FLUX_B FLUX_V   MV  (B-V)0\n",
      "                         mag    mag               \n",
      "--------------- ------- ------ ------ ----- ------\n",
      "      HD 228452     B3V  10.43   9.77 -2.45  -0.24\n",
      "      HD 192557     F6V   8.08   7.59   3.5   0.44\n",
      "      HD 192605     B9V   8.68   8.71 -0.25  -0.11\n",
      "TYC 2684-1684-1     G2V  11.62  10.92   4.7   0.63\n",
      "      HD 192164     K2V   9.29    7.8   6.4   0.91\n",
      "      HD 228119     A3V  9.904  9.758   1.3   0.05\n"
     ]
    }
   ],
   "source": [
    "#Para poder operar entre columnas y calcular las distancias espectrofotométricas. Agrego columnas:\n",
    "# Por ejemplo la magnitud intrínseca V\n",
    "# busco los valores en Cox y los agrego\n",
    "result_table['MV'] = [ -2.45, 3.5, -0.25, 4.7, 6.4, 1.3 ]\n",
    "#\n",
    "# Les dejamos a Uds. completar los índices de color\n",
    "result_table['(B-V)0'] = [ -0.24, 0.44, -0.11, 0.63, 0.91, 0.05 ] ### BORRAR\n",
    "print(result_table['MAIN_ID','SP_TYPE','FLUX_B','FLUX_V','MV','(B-V)0'])"
   ]
  },
  {
   "cell_type": "markdown",
   "metadata": {},
   "source": [
    "(c) Deduzca el exceso de color $E(B−V)$ para cada estrella.\n",
    "\n",
    "(d) Suponiendo que la extinción interestelar en la banda $V$, expresada en magnitudes, sigue la relación:\n",
    "\n",
    "$A_V = R  E(B−V)$,\n",
    "\n",
    "calcule el valor de la extinción para cada estrella.\n",
    "Utilice el valor canónico para R (R = 3.1).\n",
    "\n",
    "(e) Calcule la distancia a cada estrella en parsecs. Utilice la fórmula del módulo de distancia:\n",
    "\n",
    "$V − M_V = −5 + 5 \\log(d) + A_V$ ."
   ]
  },
  {
   "cell_type": "code",
   "execution_count": 85,
   "metadata": {},
   "outputs": [
    {
     "name": "stdout",
     "output_type": "stream",
     "text": [
      "    MAIN_ID     SP_TYPE    distancia_sp   \n",
      "--------------- ------- ------------------\n",
      "      HD 228452     B3V  769.1307699689481\n",
      "      HD 192557     F6V   61.2350634841191\n",
      "      HD 192605     B9V   552.585954685622\n",
      "TYC 2684-1684-1     G2V 158.70848044655418\n",
      "      HD 192164     K2V   8.32530551907172\n",
      "      HD 228119     A3V 428.62759903791266\n"
     ]
    }
   ],
   "source": [
    "# Calculo distancias espectrofotométricas\n",
    "import numpy as np\n",
    "result_table['B-V'] = result_table['FLUX_B'] - result_table['FLUX_V']\n",
    "result_table['AV'] = 3.1*(result_table['B-V']-result_table['(B-V)0'])\n",
    "result_table['distancia_sp'] = np.power(10,(result_table['FLUX_V']-result_table['MV']+5-result_table['AV'])/5.0)\n",
    "print(result_table['MAIN_ID','SP_TYPE','distancia_sp'])"
   ]
  },
  {
   "cell_type": "markdown",
   "metadata": {},
   "source": [
    "(f) Compare las distancias calculadas con las determinadas a partir de las paralajes de Gaia. Comente cuáles pueden ser las causas de las diferencias. "
   ]
  },
  {
   "cell_type": "code",
   "execution_count": 86,
   "metadata": {},
   "outputs": [
    {
     "data": {
      "text/html": [
       "<i>Table length=6</i>\n",
       "<table id=\"table140175231629008\" class=\"table-striped table-bordered table-condensed\">\n",
       "<thead><tr><th>MAIN_ID</th><th>RA</th><th>DEC</th><th>RA_PREC</th><th>DEC_PREC</th><th>COO_ERR_MAJA</th><th>COO_ERR_MINA</th><th>COO_ERR_ANGLE</th><th>COO_QUAL</th><th>COO_WAVELENGTH</th><th>COO_BIBCODE</th><th>RA_2</th><th>DEC_2</th><th>SP_TYPE</th><th>SP_QUAL</th><th>SP_BIBCODE</th><th>SP_BIBCODE_2</th><th>FLUX_B</th><th>FLUX_V</th><th>FLUX_BIBCODE_B</th><th>FLUX_BIBCODE_V</th><th>Distance_distance</th><th>Distance_Q</th><th>Distance_unit</th><th>Distance_merr</th><th>Distance_perr</th><th>Distance_method</th><th>Distance_bibcode</th></tr></thead>\n",
       "<thead><tr><th></th><th>&quot;h:m:s&quot;</th><th>&quot;d:m:s&quot;</th><th></th><th></th><th>mas</th><th>mas</th><th>deg</th><th></th><th></th><th></th><th>&quot;h:m:s&quot;</th><th>&quot;d:m:s&quot;</th><th></th><th></th><th></th><th></th><th>mag</th><th>mag</th><th></th><th></th><th></th><th></th><th></th><th></th><th></th><th></th><th></th></tr></thead>\n",
       "<thead><tr><th>object</th><th>str13</th><th>str13</th><th>int16</th><th>int16</th><th>float32</th><th>float32</th><th>int16</th><th>str1</th><th>str1</th><th>object</th><th>str13</th><th>str13</th><th>object</th><th>str1</th><th>object</th><th>object</th><th>float32</th><th>float32</th><th>object</th><th>object</th><th>float64</th><th>str1</th><th>str4</th><th>float64</th><th>float64</th><th>str8</th><th>str19</th></tr></thead>\n",
       "<tr><td>HD 228452</td><td>20 13 57.4648</td><td>+35 24 11.048</td><td>14</td><td>14</td><td>0.020</td><td>0.029</td><td>90</td><td>A</td><td>O</td><td>2018yCat.1345....0G</td><td>20 13 57.4648</td><td>+35 24 11.048</td><td>B3V</td><td>C</td><td></td><td></td><td>10.43</td><td>9.77</td><td></td><td></td><td>1957.7134</td><td></td><td>pc</td><td>-110.7633</td><td>110.7633</td><td>paral</td><td>2018yCat.1345....0G</td></tr>\n",
       "<tr><td>HD 192557</td><td>20 14 13.9296</td><td>+35 21 42.012</td><td>14</td><td>14</td><td>0.022</td><td>0.027</td><td>90</td><td>A</td><td>O</td><td>2018yCat.1345....0G</td><td>20 14 13.9296</td><td>+35 21 42.012</td><td>F6V</td><td>C</td><td></td><td></td><td>8.08</td><td>7.59</td><td></td><td></td><td>58.4221</td><td></td><td>pc</td><td>-0.1048</td><td>0.1048</td><td>paral</td><td>2018yCat.1345....0G</td></tr>\n",
       "<tr><td>HD 192605</td><td>20 14 25.2415</td><td>+35 37 20.339</td><td>14</td><td>14</td><td>0.027</td><td>0.033</td><td>90</td><td>A</td><td>O</td><td>2018yCat.1345....0G</td><td>20 14 25.2415</td><td>+35 37 20.339</td><td>B9V</td><td>C</td><td></td><td></td><td>8.68</td><td>8.71</td><td></td><td></td><td>333.4334</td><td></td><td>pc</td><td>-4.3026</td><td>4.3026</td><td>paral</td><td>2018yCat.1345....0G</td></tr>\n",
       "<tr><td>TYC 2684-1684-1</td><td>20 16 28.1923</td><td>+35 45 49.569</td><td>14</td><td>14</td><td>0.021</td><td>0.026</td><td>90</td><td>A</td><td>O</td><td>2018yCat.1345....0G</td><td>20 16 28.1923</td><td>+35 45 49.569</td><td>G2V</td><td>D</td><td></td><td></td><td>11.62</td><td>10.92</td><td>2000A&amp;A...355L..27H</td><td>2000A&amp;A...355L..27H</td><td>134.9801</td><td></td><td>pc</td><td>-0.5211</td><td>0.5211</td><td>paral</td><td>2018yCat.1345....0G</td></tr>\n",
       "<tr><td>HD 192164</td><td>20 12 18.3068</td><td>+34 51 10.696</td><td>14</td><td>14</td><td>0.020</td><td>0.024</td><td>90</td><td>A</td><td>O</td><td>2018yCat.1345....0G</td><td>20 12 18.3068</td><td>+34 51 10.696</td><td>K2V</td><td>C</td><td></td><td></td><td>9.29</td><td>7.8</td><td></td><td></td><td>416.3197</td><td></td><td>pc</td><td>-4.9223</td><td>4.9223</td><td>paral</td><td>2018yCat.1345....0G</td></tr>\n",
       "<tr><td>HD 228119</td><td>20 10 47.9429</td><td>+35 08 05.943</td><td>14</td><td>14</td><td>0.023</td><td>0.030</td><td>90</td><td>A</td><td>O</td><td>2018yCat.1345....0G</td><td>20 10 47.9429</td><td>+35 08 05.943</td><td>A3V</td><td>C</td><td></td><td></td><td>9.904</td><td>9.758</td><td>2000A&amp;A...355L..27H</td><td>2000A&amp;A...355L..27H</td><td>324.4331</td><td></td><td>pc</td><td>-3.6103</td><td>3.6103</td><td>paral</td><td>2018yCat.1345....0G</td></tr>\n",
       "</table>"
      ],
      "text/plain": [
       "<Table length=6>\n",
       "    MAIN_ID           RA      ... Distance_method   Distance_bibcode \n",
       "                   \"h:m:s\"    ...                                    \n",
       "     object         str13     ...       str8             str19       \n",
       "--------------- ------------- ... --------------- -------------------\n",
       "      HD 228452 20 13 57.4648 ...           paral 2018yCat.1345....0G\n",
       "      HD 192557 20 14 13.9296 ...           paral 2018yCat.1345....0G\n",
       "      HD 192605 20 14 25.2415 ...           paral 2018yCat.1345....0G\n",
       "TYC 2684-1684-1 20 16 28.1923 ...           paral 2018yCat.1345....0G\n",
       "      HD 192164 20 12 18.3068 ...           paral 2018yCat.1345....0G\n",
       "      HD 228119 20 10 47.9429 ...           paral 2018yCat.1345....0G"
      ]
     },
     "execution_count": 86,
     "metadata": {},
     "output_type": "execute_result"
    }
   ],
   "source": [
    "# Comparo las distancias calculadas con las determinadas a partir de paralajes Gaia\n",
    "customSimbad.add_votable_fields('distance')\n",
    "d_table = customSimbad.query_objects([\"HD 228452\", \"HD 192557\", \"HD 192605\",\"TYC 2684-1684-1\",\"HD 192164\",\"HD 228119\"])\n",
    "d_table"
   ]
  },
  {
   "cell_type": "code",
   "execution_count": 87,
   "metadata": {},
   "outputs": [
    {
     "name": "stdout",
     "output_type": "stream",
     "text": [
      "    MAIN_ID     Distance_distance\n",
      "--------------- -----------------\n",
      "      HD 228452         1957.7134\n",
      "      HD 192557           58.4221\n",
      "      HD 192605          333.4334\n",
      "TYC 2684-1684-1          134.9801\n",
      "      HD 192164          416.3197\n",
      "      HD 228119          324.4331\n",
      "    MAIN_ID     SP_TYPE    distancia_sp   \n",
      "--------------- ------- ------------------\n",
      "      HD 228452     B3V  769.1307699689481\n",
      "      HD 192557     F6V   61.2350634841191\n",
      "      HD 192605     B9V   552.585954685622\n",
      "TYC 2684-1684-1     G2V 158.70848044655418\n",
      "      HD 192164     K2V   8.32530551907172\n",
      "      HD 228119     A3V 428.62759903791266\n"
     ]
    }
   ],
   "source": [
    "print(d_table['MAIN_ID','Distance_distance'])\n",
    "print(result_table['MAIN_ID','SP_TYPE','distancia_sp'])"
   ]
  },
  {
   "cell_type": "markdown",
   "metadata": {},
   "source": [
    "(g) Grafique en un diagrama color-magnitud las magnitudes y colores intrínsecos y observados. Indique con un vector cómo se desplazan las estrellas en dicho diagrama por efecto de la extinción interestelar (extinción y enrojecimiento)."
   ]
  },
  {
   "cell_type": "code",
   "execution_count": 96,
   "metadata": {
    "colab": {
     "base_uri": "https://localhost:8080/",
     "height": 514
    },
    "colab_type": "code",
    "executionInfo": {
     "elapsed": 5861,
     "status": "ok",
     "timestamp": 1588896708795,
     "user": {
      "displayName": "Roberto",
      "photoUrl": "https://lh3.googleusercontent.com/a-/AOh14GhK84PWuLCryjJ3ZOiRxmj9ne8bcEZvcAH7oqjoRg=s64",
      "userId": "00850389095599299508"
     },
     "user_tz": 180
    },
    "id": "NOYkuhMaqAK2",
    "outputId": "6d841b7b-edae-4485-a359-d26019ff58f0"
   },
   "outputs": [
    {
     "data": {
      "image/png": "[encoded data removed]",
      "text/plain": [
       "<Figure size 1080x576 with 1 Axes>"
      ]
     },
     "metadata": {
      "needs_background": "light"
     },
     "output_type": "display_data"
    }
   ],
   "source": [
    "import pandas as pd\n",
    "import numpy as np\n",
    "import matplotlib.pyplot as plt\n",
    "plt.rcParams['figure.figsize'] = [15, 8]\n",
    "\n",
    "#estrella = result_table[result_table['SP_TYPE']==\"B3V\"]\n",
    "estrella = pd.DataFrame()\n",
    "estrella['(B-V)0'] = result_table['(B-V)0']\n",
    "estrella['MV'] = result_table['MV']\n",
    "estrella['B-V'] = result_table['B-V']\n",
    "estrella['FLUX_V'] = result_table['FLUX_V']\n",
    "estrella['MAIN_ID'] = result_table['MAIN_ID']\n",
    "estrella0 = estrella.iloc[3,:]\n",
    "plt.scatter(data=estrella0, x='(B-V)0', y='MV',alpha=1, edgecolors='black', c='blue', s=100, label='Teórico')\n",
    "plt.scatter(data=estrella0, x='B-V', y='FLUX_V',alpha=1, edgecolors='black', c='red', s=100, label='Observado')\n",
    "plt.grid(True)\n",
    "plt.ylim(12, -3)\n",
    "plt.xlabel('Índice de color')\n",
    "plt.ylabel('magnitud')\n",
    "plt.title('Parámetros para %s' %(estrella0['MAIN_ID']))\n",
    "plt.legend(bbox_to_anchor=(1.05, 1), loc='upper left', borderaxespad=0.)\n",
    "plt.show()"
   ]
  },
  {
   "cell_type": "markdown",
   "metadata": {},
   "source": [
    "#### Ejercicio 3.\n",
    "\n",
    "El medio interestelar actúa selectivamente sobre las longitudes de onda, cambiando el aspecto de la distribución espectral de energía SED (spectral energy distribution) de las estrellas. Todas las estrellas de un subtipo espectral tendrán los mismos índices de color intrínsecos ya que tienen la misma SED. Las diferencias de colores aparentes entre estrellas del mismo subtipo espectral son causadas por el medio interestelar. Para caracterizar el medio interestelar, conviene observar estrellas intrínsecamente brillantes, que son detectadas aún a grandes distancias.\n",
    "\n",
    "(a) Seleccionaremos un conjunto de estrellas O4 y O5 de la base de datos SIMBAD (http://simbad.u-strasbg.fr/simbad/sim-fsam), que tengan medidas de las magnitudes $U$, $B$ y $V$. Escribimos en el casillero de los requerimientos:\n",
    "\n",
    "sptypes = \"O4\" & Umag > 1 & Bmag > 1 & Vmag > 1 | sptypes = \"O5\" & Umag > 1 & Bmag > 1 & Vmag > 1\n",
    "\n",
    "Esto es: Estrellas O4 con Umag, Bmag y Vmag distinto de cero (>1) o (|) estrellas O5 con Umag, Bmag y Vmag distinto de cero.\n",
    "\n",
    "Para que nos dé la lista de objetos, seleccionamos a la derecha de la página: “display objects”. Antes, configuramos el formato de la tabla de salida. Para eso, en “Output options” (se abre en pestaña nueva), modificamos la columna que\n",
    "dice “list display”. Sólo cliqueamos Fluxes/Magnitudes (y ahí U B V), y Spectral type. Todos los demás deben quedar sin cliquear. Pedimos además que el “Output format” sea ascii-tab separator. Guardamos el archivo de salida para hacer el gráfico correspondiente.\n",
    "\n",
    "Pero también podemos hacerlo con Python:"
   ]
  },
  {
   "cell_type": "code",
   "execution_count": 9,
   "metadata": {},
   "outputs": [
    {
     "data": {
      "text/html": [
       "<i>Table length=14</i>\n",
       "<table id=\"table140175291873104\" class=\"table-striped table-bordered table-condensed\">\n",
       "<thead><tr><th>MAIN_ID</th><th>RA</th><th>DEC</th><th>RA_PREC</th><th>DEC_PREC</th><th>COO_ERR_MAJA</th><th>COO_ERR_MINA</th><th>COO_ERR_ANGLE</th><th>COO_QUAL</th><th>COO_WAVELENGTH</th><th>COO_BIBCODE</th><th>FLUX_U</th><th>FLUX_B</th><th>FLUX_V</th><th>SP_TYPE</th><th>SP_QUAL</th><th>SP_BIBCODE</th></tr></thead>\n",
       "<thead><tr><th></th><th>&quot;h:m:s&quot;</th><th>&quot;d:m:s&quot;</th><th></th><th></th><th>mas</th><th>mas</th><th>deg</th><th></th><th></th><th></th><th>mag</th><th>mag</th><th>mag</th><th></th><th></th><th></th></tr></thead>\n",
       "<thead><tr><th>object</th><th>str13</th><th>str13</th><th>int16</th><th>int16</th><th>float32</th><th>float32</th><th>int16</th><th>str1</th><th>str1</th><th>object</th><th>float32</th><th>float32</th><th>float32</th><th>object</th><th>str1</th><th>object</th></tr></thead>\n",
       "<tr><td>V* V441 Pup</td><td>07 28 53.5787</td><td>-26 06 28.895</td><td>14</td><td>14</td><td>0.023</td><td>0.031</td><td>90</td><td>A</td><td>O</td><td>2018yCat.1345....0G</td><td>11.27</td><td>12.29</td><td>11.83</td><td>O5Ve</td><td>C</td><td>2016ApJS..224....4M</td></tr>\n",
       "<tr><td>[MWP96] 189</td><td>01 33 33.75</td><td>+30 41 32.7</td><td>6</td><td>6</td><td>--</td><td>--</td><td>0</td><td>D</td><td></td><td>1996AJ....111.1128M</td><td>20.82</td><td>22.46</td><td>21.97</td><td>O5V</td><td>C</td><td>2009ApJ...700.1847L</td></tr>\n",
       "<tr><td>2MASS J05385364-6908116</td><td>05 38 53.641</td><td>-69 08 11.64</td><td>7</td><td>7</td><td>210.000</td><td>160.000</td><td>178</td><td>C</td><td>I</td><td>2003yCat.2246....0C</td><td>14.927</td><td>15.746</td><td>15.725</td><td>O5V</td><td>C</td><td>1999A&amp;AS..137...21B</td></tr>\n",
       "<tr><td>[MLD95] LMC 1-550</td><td>05 31 11.854</td><td>-71 04 10.10</td><td>7</td><td>7</td><td>110.000</td><td>110.000</td><td>90</td><td>C</td><td>I</td><td>2003yCat.2246....0C</td><td>12.207</td><td>12.941</td><td>13.231</td><td>O5V</td><td>C</td><td>2012A&amp;A...547A..19K</td></tr>\n",
       "<tr><td>SK -71   51</td><td>05 41 39.6169</td><td>-71 19 56.313</td><td>14</td><td>14</td><td>0.034</td><td>0.038</td><td>90</td><td>A</td><td>O</td><td>2018yCat.1345....0G</td><td>11.621</td><td>12.62</td><td>12.71</td><td>O4V</td><td>C</td><td>1986AJ.....92...48C</td></tr>\n",
       "<tr><td>SK -70   60</td><td>05 04 40.7778</td><td>-70 15 34.500</td><td>14</td><td>14</td><td>0.032</td><td>0.034</td><td>90</td><td>A</td><td>O</td><td>2018yCat.1345....0G</td><td>12.609</td><td>13.646</td><td>13.914</td><td>O4V</td><td>C</td><td>1986AJ.....92...48C</td></tr>\n",
       "<tr><td>AzV 388</td><td>01 05 39.5300</td><td>-72 29 26.938</td><td>14</td><td>14</td><td>0.038</td><td>0.028</td><td>90</td><td>A</td><td>O</td><td>2018yCat.1345....0G</td><td>12.79</td><td>13.86</td><td>14.12</td><td>O5V</td><td>C</td><td>2004MNRAS.353..601E</td></tr>\n",
       "<tr><td>AzV 177</td><td>00 56 44.1039</td><td>-72 03 31.678</td><td>14</td><td>14</td><td>0.048</td><td>0.031</td><td>90</td><td>A</td><td>O</td><td>2018yCat.1345....0G</td><td>13.22</td><td>14.39</td><td>14.62</td><td>O4Vz</td><td>C</td><td>2013ApJ...763..101L</td></tr>\n",
       "<tr><td>NGC  3603    22</td><td>11 15 10.071</td><td>-61 15 38.01</td><td>7</td><td>7</td><td>--</td><td>--</td><td>0</td><td>D</td><td></td><td>2008AJ....135..878M</td><td>13.93</td><td>14.12</td><td>13.06</td><td>O5V</td><td>D</td><td></td></tr>\n",
       "<tr><td>V* V662 Car</td><td>10 45 36.3216</td><td>-59 48 23.258</td><td>14</td><td>14</td><td>0.025</td><td>0.025</td><td>90</td><td>A</td><td>O</td><td>2018yCat.1345....0G</td><td>12.74</td><td>12.91</td><td>12.05</td><td>O5Vz+B0:V</td><td>C</td><td>2014ApJS..211...10S</td></tr>\n",
       "<tr><td>Cl* Westerlund    2    MSP     171</td><td>10 24 04.8971</td><td>-57 45 28.396</td><td>14</td><td>14</td><td>0.033</td><td>0.031</td><td>90</td><td>A</td><td>O</td><td>2018yCat.1345....0G</td><td>15.975</td><td>16.134</td><td>14.528</td><td>O5V</td><td></td><td>2007A&amp;A...463..981R</td></tr>\n",
       "<tr><td>Cl* Westerlund    2    MSP     175</td><td>10 24 01.3850</td><td>-57 45 29.612</td><td>14</td><td>14</td><td>0.035</td><td>0.030</td><td>90</td><td>A</td><td>O</td><td>2018yCat.1345....0G</td><td>15.188</td><td>15.495</td><td>14.084</td><td>O4V</td><td>C</td><td>2013AJ....145..125V</td></tr>\n",
       "<tr><td>UCAC3 65-98348</td><td>10 24 00.51</td><td>-57 45 23.9</td><td>6</td><td>6</td><td>100.000</td><td>100.000</td><td>90</td><td>C</td><td>X</td><td>2007ApJ...665..719T</td><td>15.792</td><td>16.031</td><td>14.546</td><td>O4V</td><td>C</td><td>2013AJ....145..125V</td></tr>\n",
       "<tr><td>Cl* Westerlund    2    MSP     165</td><td>10 23 55.1750</td><td>-57 45 26.927</td><td>14</td><td>14</td><td>0.043</td><td>0.041</td><td>90</td><td>A</td><td>O</td><td>2018yCat.1345....0G</td><td>17.271</td><td>17.386</td><td>15.61</td><td>O4V</td><td>C</td><td>2013AJ....145..125V</td></tr>\n",
       "</table>"
      ],
      "text/plain": [
       "<Table length=14>\n",
       "             MAIN_ID                     RA      ... SP_QUAL      SP_BIBCODE    \n",
       "                                      \"h:m:s\"    ...                            \n",
       "              object                   str13     ...   str1         object      \n",
       "---------------------------------- ------------- ... ------- -------------------\n",
       "                       V* V441 Pup 07 28 53.5787 ...       C 2016ApJS..224....4M\n",
       "                       [MWP96] 189   01 33 33.75 ...       C 2009ApJ...700.1847L\n",
       "           2MASS J05385364-6908116  05 38 53.641 ...       C 1999A&AS..137...21B\n",
       "                 [MLD95] LMC 1-550  05 31 11.854 ...       C 2012A&A...547A..19K\n",
       "                       SK -71   51 05 41 39.6169 ...       C 1986AJ.....92...48C\n",
       "                       SK -70   60 05 04 40.7778 ...       C 1986AJ.....92...48C\n",
       "                           AzV 388 01 05 39.5300 ...       C 2004MNRAS.353..601E\n",
       "                           AzV 177 00 56 44.1039 ...       C 2013ApJ...763..101L\n",
       "                   NGC  3603    22  11 15 10.071 ...       D                    \n",
       "                       V* V662 Car 10 45 36.3216 ...       C 2014ApJS..211...10S\n",
       "Cl* Westerlund    2    MSP     171 10 24 04.8971 ...         2007A&A...463..981R\n",
       "Cl* Westerlund    2    MSP     175 10 24 01.3850 ...       C 2013AJ....145..125V\n",
       "                    UCAC3 65-98348   10 24 00.51 ...       C 2013AJ....145..125V\n",
       "Cl* Westerlund    2    MSP     165 10 23 55.1750 ...       C 2013AJ....145..125V"
      ]
     },
     "execution_count": 9,
     "metadata": {},
     "output_type": "execute_result"
    }
   ],
   "source": [
    "from astroquery.simbad import Simbad\n",
    "customSimbad = Simbad()\n",
    "customSimbad.add_votable_fields('flux(U)', 'flux(B)','flux(V)','sptype')\n",
    "result = customSimbad.query_criteria('sptypes=\"O4V\" & Umag>1 & Bmag>1 & Vmag>1 | sptypes=\"O5V\" & Umag>1 & Bmag>1 & Vmag>1')\n",
    "result"
   ]
  },
  {
   "cell_type": "markdown",
   "metadata": {},
   "source": [
    "(b) Realizamos un gráfico color-color de las estrellas de la muestra ($B−V$) versus ($U−B$). Agregamos\n",
    "una secuencia principal de edad cero (ZAMS) y comentamos el resultado.\n",
    "\n",
    "(c) Ajustamos la recta de enrojecimiento a partir de las estrellas de la muestra obtenida, encontrando el valor de la pendiente en la siguiente expresión:\n",
    "\n",
    "$(U − B) = a (B − V) + b$"
   ]
  },
  {
   "cell_type": "code",
   "execution_count": 58,
   "metadata": {},
   "outputs": [
    {
     "name": "stdout",
     "output_type": "stream",
     "text": [
      "          ub        bv\n",
      "0  -1.020000  0.460000\n",
      "1  -1.639999  0.490000\n",
      "2  -0.819000  0.021000\n",
      "3  -0.734000 -0.290000\n",
      "4  -0.999000 -0.090000\n",
      "5  -1.037000 -0.268000\n",
      "6  -1.070000 -0.260000\n",
      "7  -1.170000 -0.230000\n",
      "8  -0.190000  1.059999\n",
      "9  -0.170000  0.860000\n",
      "10 -0.159000  1.606001\n",
      "11 -0.307000  1.411000\n",
      "12 -0.239000  1.485001\n",
      "13 -0.115000  1.776000\n"
     ]
    },
    {
     "data": {
      "image/png": "[encoded data removed]",
      "text/plain": [
       "<Figure size 720x720 with 1 Axes>"
      ]
     },
     "metadata": {
      "needs_background": "light"
     },
     "output_type": "display_data"
    }
   ],
   "source": [
    "import numpy as np\n",
    "plt.rcParams['figure.figsize'] = [10, 10]\n",
    "\n",
    "#Para plotear convierto a pandas\n",
    "ubv =pd.DataFrame()\n",
    "ubv['ub']=result['FLUX_U']-result['FLUX_B']\n",
    "ubv['bv']=result['FLUX_B']-result['FLUX_V']\n",
    "print(ubv)\n",
    "#\n",
    "plt.scatter(data=ubv, x='bv', y='ub',alpha=1, edgecolors='black', c='blue', s=100, label='')\n",
    "#\n",
    "# Ajusto polinomio de grado 1  \n",
    "z = np.polyfit(x=ubv['bv'], y=ubv['ub'], deg=1)\n",
    "x = np.arange(-0.5,2.5,0.2)\n",
    "y = x * z[0] + z[1]\n",
    "plt.plot(x, y, label='(U-B) = %.2f (B-V) + %.2f' %(z[0],z[1]))\n",
    "plt.grid(True)\n",
    "plt.ylim(0.5,-2)\n",
    "plt.xlim(-0.5,2.5)\n",
    "plt.xlabel('B-V')\n",
    "plt.ylabel('U-B')\n",
    "plt.legend()\n",
    "#\n",
    "plt.show()"
   ]
  },
  {
   "cell_type": "code",
   "execution_count": 57,
   "metadata": {},
   "outputs": [
    {
     "data": {
      "image/png": "[encoded data removed]",
      "text/plain": [
       "<Figure size 720x720 with 1 Axes>"
      ]
     },
     "metadata": {
      "needs_background": "light"
     },
     "output_type": "display_data"
    }
   ],
   "source": [
    "import io\n",
    "plt.rcParams['figure.figsize'] = [10, 10]\n",
    "\n",
    "#Agrego ZAMS\n",
    "zams = pd.read_csv('ZAMS.csv',header=0)\n",
    "#print (zams)\n",
    "zams.plot.line(x='B-V', y='U-B', color='blue', label='ZAMS') #línea\n",
    "plt.scatter(data=zams, x='B-V', y='U-B', alpha=1, edgecolors='black', c='blue', s=50, label='ZAMS') #puntos\n",
    "#\n",
    "plt.scatter(data=ubv, x='bv', y='ub', alpha=1, edgecolors='black', c='red', s=100, label='observaciones')\n",
    "#\n",
    "# Ajusto polinomio de grado 1  \n",
    "z = np.polyfit(x=ubv['bv'], y=ubv['ub'], deg=1)\n",
    "x = np.arange(-0.5,2,0.2)\n",
    "y = x * z[0] + z[1]\n",
    "plt.plot(x, y, label='(U-B) = %.2f (B-V) + %.2f' %(z[0],z[1]))\n",
    "plt.grid(True)\n",
    "plt.ylim(1.5,-2)\n",
    "plt.xlim(-0.5,2)\n",
    "plt.xlabel('B-V')\n",
    "plt.ylabel('U-B')\n",
    "plt.legend()\n",
    "#\n",
    "plt.show()"
   ]
  },
  {
   "cell_type": "markdown",
   "metadata": {},
   "source": [
    "#### Ejercicio 4.\n",
    "\n",
    "Podemos visualizar que la extinción que ejerce el medio interestelar sobre la radiación de las estrellas depende de la longitud de onda.\n",
    "\n",
    "(a) Elija la estrella más extinguida de la lista anterior. \n",
    "\n",
    "(b) Obtenga (de Simbad) sus flujos en la mayor cantidad de filtros fotométricos posible.\n",
    "\n",
    "(c) Busque las magnitudes absolutas calibradas para una estrella con el mismo tipo espectral.\n",
    "\n",
    "(d) Diluya la magnitud absoluta por la distancia a dicha estrella.\n",
    "\n",
    "(e) Compare las magnitudes corregidas por distancia y observada.\n",
    "\n",
    "Comente: ¿Por qué las magnitudes comparadas no son iguales?¿Se verifica una dependencia con la longitud de onda?¿Qué pasaría si trato de determinar una temperatura con las magnitudes observadas?"
   ]
  },
  {
   "cell_type": "code",
   "execution_count": 65,
   "metadata": {},
   "outputs": [
    {
     "data": {
      "text/html": [
       "<i>Table length=1</i>\n",
       "<table id=\"table140175232443984\" class=\"table-striped table-bordered table-condensed\">\n",
       "<thead><tr><th>MAIN_ID</th><th>RA</th><th>DEC</th><th>RA_PREC</th><th>DEC_PREC</th><th>COO_ERR_MAJA</th><th>COO_ERR_MINA</th><th>COO_ERR_ANGLE</th><th>COO_QUAL</th><th>COO_WAVELENGTH</th><th>COO_BIBCODE</th><th>SP_TYPE</th><th>SP_QUAL</th><th>SP_BIBCODE</th><th>SP_BIBCODE_2</th><th>FLUX_U</th><th>FLUX_B</th><th>FLUX_V</th><th>FLUX_R</th><th>FLUX_I</th><th>FLUX_J</th><th>FLUX_H</th><th>FLUX_K</th></tr></thead>\n",
       "<thead><tr><th></th><th>&quot;h:m:s&quot;</th><th>&quot;d:m:s&quot;</th><th></th><th></th><th>mas</th><th>mas</th><th>deg</th><th></th><th></th><th></th><th></th><th></th><th></th><th></th><th>mag</th><th>mag</th><th>mag</th><th>mag</th><th>mag</th><th>mag</th><th>mag</th><th>mag</th></tr></thead>\n",
       "<thead><tr><th>object</th><th>str13</th><th>str13</th><th>int16</th><th>int16</th><th>float32</th><th>float32</th><th>int16</th><th>str1</th><th>str1</th><th>object</th><th>object</th><th>str1</th><th>object</th><th>object</th><th>float32</th><th>float32</th><th>float32</th><th>float32</th><th>float32</th><th>float32</th><th>float32</th><th>float32</th></tr></thead>\n",
       "<tr><td>Cl* Westerlund    2    MSP     165</td><td>10 23 55.1750</td><td>-57 45 26.927</td><td>14</td><td>14</td><td>0.043</td><td>0.041</td><td>90</td><td>A</td><td>O</td><td>2018yCat.1345....0G</td><td>O4V</td><td>C</td><td>2013AJ....145..125V</td><td>2013AJ....145..125V</td><td>17.271</td><td>17.386</td><td>15.61</td><td>14.98</td><td>13.153</td><td>10.961</td><td>10.258</td><td>9.857</td></tr>\n",
       "</table>"
      ],
      "text/plain": [
       "<Table length=1>\n",
       "             MAIN_ID                     RA      ...  FLUX_H  FLUX_K\n",
       "                                      \"h:m:s\"    ...   mag     mag  \n",
       "              object                   str13     ... float32 float32\n",
       "---------------------------------- ------------- ... ------- -------\n",
       "Cl* Westerlund    2    MSP     165 10 23 55.1750 ...  10.258   9.857"
      ]
     },
     "execution_count": 65,
     "metadata": {},
     "output_type": "execute_result"
    }
   ],
   "source": [
    "from astroquery.simbad import Simbad\n",
    "customSimbad = Simbad()\n",
    "customSimbad.add_votable_fields('sptype','sp_bibcode','flux(U)','flux(B)','flux(V)','flux(R)','flux(I)','flux(J)','flux(H)','flux(K)') #,'parallax')\n",
    "result_table = customSimbad.query_object(\"Cl* Westerlund 2 MSP 165\")\n",
    "result_table"
   ]
  },
  {
   "cell_type": "code",
   "execution_count": 79,
   "metadata": {},
   "outputs": [
    {
     "data": {
      "image/png": "[encoded data removed]",
      "text/plain": [
       "<Figure size 1080x576 with 1 Axes>"
      ]
     },
     "metadata": {
      "needs_background": "light"
     },
     "output_type": "display_data"
    }
   ],
   "source": [
    "# Para generar las comparaciones, ingreso \"a mano\" la base de datos \"sed\" \n",
    "sed =pd.DataFrame()\n",
    "sed['lambda'] = [3650,4400,5500,7000,8800,12200,16300,21900]\n",
    "sed['M_abs'] = [-7.22,-6.03,-5.7,-5.55,-5.23,-4.60,-4.49,-4.39]\n",
    "distancia = 6400.0 # Borrar, buscar en Simbad.\n",
    "sed['m_corr'] = sed['M_abs'] - 5 + 5 * np.log10(distancia)\n",
    "sed['m_obs'] = [17.271,17.386,15.61,14.98,13.153,10.961,10.258,9.857]\n",
    "\n",
    "# Ploteamos\n",
    "plt.rcParams['figure.figsize'] = [15, 8]\n",
    "\n",
    "plt.scatter(data=sed, x='lambda', y='m_corr', alpha=1, edgecolors='black', c='blue', s=50, label='Mag teórica') #puntos\n",
    "plt.scatter(data=sed, x='lambda', y='m_obs', alpha=1, edgecolors='black', c='red', s=50, label='Mag observada') #puntos\n",
    "plt.grid(True)\n",
    "plt.ylim(18,6)\n",
    "#plt.xlim()\n",
    "plt.xlabel('Longitud de onda [$\\AA$]')\n",
    "plt.ylabel('magnitud')\n",
    "plt.legend()\n",
    "#\n",
    "plt.show()"
   ]
  },
  {
   "cell_type": "code",
   "execution_count": null,
   "metadata": {},
   "outputs": [],
   "source": []
  }
 ],
 "metadata": {
  "colab": {
   "authorship_tag": "ABX9TyPFmeBEjOybpQGE2odFLo0D",
   "name": "cuerponegro.ipynb",
   "provenance": []
  },
  "kernelspec": {
   "display_name": "Python 3",
   "language": "python",
   "name": "python3"
  },
  "language_info": {
   "codemirror_mode": {
    "name": "ipython",
    "version": 3
   },
   "file_extension": ".py",
   "mimetype": "text/x-python",
   "name": "python",
   "nbconvert_exporter": "python",
   "pygments_lexer": "ipython3",
   "version": "3.7.7"
  }
 },
 "nbformat": 4,
 "nbformat_minor": 1
}
