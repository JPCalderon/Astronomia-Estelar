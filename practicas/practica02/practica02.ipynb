{
 "cells": [
  {
   "cell_type": "markdown",
   "metadata": {},
   "source": [
    "# El sistema astronómico de magnitudes y colores\n",
    "\n",
    "**Objetivos:** \n",
    "* Calcular la longitud de onda efectiva y equivalente, teniendo en cuenta la sensibilidad de un determinado filtro y el flujo emitido por una determinada fuente.\n",
    "* Graficar la sensibilidad de un sistema de filtros.\n",
    "* Calcular los colores instrumentales a partir de una fuente de energía."
   ]
  },
  {
   "cell_type": "code",
   "execution_count": 1,
   "metadata": {},
   "outputs": [
    {
     "data": {
      "text/html": [
       "<div>\n",
       "<style scoped>\n",
       "    .dataframe tbody tr th:only-of-type {\n",
       "        vertical-align: middle;\n",
       "    }\n",
       "\n",
       "    .dataframe tbody tr th {\n",
       "        vertical-align: top;\n",
       "    }\n",
       "\n",
       "    .dataframe thead th {\n",
       "        text-align: right;\n",
       "    }\n",
       "</style>\n",
       "<table border=\"1\" class=\"dataframe\">\n",
       "  <thead>\n",
       "    <tr style=\"text-align: right;\">\n",
       "      <th></th>\n",
       "      <th>0</th>\n",
       "      <th>1</th>\n",
       "      <th>2</th>\n",
       "      <th>3</th>\n",
       "    </tr>\n",
       "  </thead>\n",
       "  <tbody>\n",
       "    <tr>\n",
       "      <th>0</th>\n",
       "      <td>B</td>\n",
       "      <td>3600</td>\n",
       "      <td>0.00</td>\n",
       "      <td>0.00</td>\n",
       "    </tr>\n",
       "    <tr>\n",
       "      <th>1</th>\n",
       "      <td>B</td>\n",
       "      <td>3650</td>\n",
       "      <td>0.00</td>\n",
       "      <td>0.00</td>\n",
       "    </tr>\n",
       "    <tr>\n",
       "      <th>2</th>\n",
       "      <td>B</td>\n",
       "      <td>3700</td>\n",
       "      <td>0.02</td>\n",
       "      <td>0.02</td>\n",
       "    </tr>\n",
       "    <tr>\n",
       "      <th>3</th>\n",
       "      <td>B</td>\n",
       "      <td>3750</td>\n",
       "      <td>0.05</td>\n",
       "      <td>0.05</td>\n",
       "    </tr>\n",
       "    <tr>\n",
       "      <th>4</th>\n",
       "      <td>B</td>\n",
       "      <td>3800</td>\n",
       "      <td>0.11</td>\n",
       "      <td>0.11</td>\n",
       "    </tr>\n",
       "    <tr>\n",
       "      <th>...</th>\n",
       "      <td>...</td>\n",
       "      <td>...</td>\n",
       "      <td>...</td>\n",
       "      <td>...</td>\n",
       "    </tr>\n",
       "    <tr>\n",
       "      <th>304</th>\n",
       "      <td>V</td>\n",
       "      <td>7150</td>\n",
       "      <td>0.01</td>\n",
       "      <td>0.01</td>\n",
       "    </tr>\n",
       "    <tr>\n",
       "      <th>305</th>\n",
       "      <td>V</td>\n",
       "      <td>7200</td>\n",
       "      <td>0.01</td>\n",
       "      <td>0.01</td>\n",
       "    </tr>\n",
       "    <tr>\n",
       "      <th>306</th>\n",
       "      <td>V</td>\n",
       "      <td>7250</td>\n",
       "      <td>0.01</td>\n",
       "      <td>0.01</td>\n",
       "    </tr>\n",
       "    <tr>\n",
       "      <th>307</th>\n",
       "      <td>V</td>\n",
       "      <td>7300</td>\n",
       "      <td>0.01</td>\n",
       "      <td>0.01</td>\n",
       "    </tr>\n",
       "    <tr>\n",
       "      <th>308</th>\n",
       "      <td>V</td>\n",
       "      <td>7350</td>\n",
       "      <td>0.00</td>\n",
       "      <td>0.00</td>\n",
       "    </tr>\n",
       "  </tbody>\n",
       "</table>\n",
       "<p>309 rows × 4 columns</p>\n",
       "</div>"
      ],
      "text/plain": [
       "     0     1     2     3\n",
       "0    B  3600  0.00  0.00\n",
       "1    B  3650  0.00  0.00\n",
       "2    B  3700  0.02  0.02\n",
       "3    B  3750  0.05  0.05\n",
       "4    B  3800  0.11  0.11\n",
       "..  ..   ...   ...   ...\n",
       "304  V  7150  0.01  0.01\n",
       "305  V  7200  0.01  0.01\n",
       "306  V  7250  0.01  0.01\n",
       "307  V  7300  0.01  0.01\n",
       "308  V  7350  0.00  0.00\n",
       "\n",
       "[309 rows x 4 columns]"
      ]
     },
     "execution_count": 1,
     "metadata": {},
     "output_type": "execute_result"
    }
   ],
   "source": [
    "import pandas as pd\n",
    "data = pd.read_csv('UBVRI.dat', sep=\" \", comment = '#', header=None)\n",
    "data # Se accede a cada columna mediante: data[0], data[1], ..."
   ]
  },
  {
   "cell_type": "code",
   "execution_count": 2,
   "metadata": {},
   "outputs": [
    {
     "name": "stdout",
     "output_type": "stream",
     "text": [
      "Long. de onda media [\\AA] =  5535.781242639785\n",
      "Long. de onda equivalente [\\AA] =  5588.277416787293\n"
     ]
    }
   ],
   "source": [
    "## 1)\n",
    "##\n",
    "from scipy.integrate import simps\n",
    "import numpy as np\n",
    "\n",
    "from astropy.modeling.models import BlackBody\n",
    "from astropy import units as u\n",
    "\n",
    "dataU = data[data[0] == 'U'] # Filtro por banda.\n",
    "dataB = data[data[0] == 'B'] # Filtro por banda.\n",
    "dataV = data[data[0] == 'V'] # Filtro por banda.\n",
    "#print(dataV[0]) % Sirve para comprobar si el filtrado funciono bien.\n",
    "\n",
    "LOE_numerador = simps(dataV[1]*dataV[2], x=dataV[1])\n",
    "LOE_denominador = simps(dataV[2], x=dataV[1])\n",
    "\n",
    "print (\"Long. de onda media [\\AA] = \", LOE_numerador/LOE_denominador)\n",
    "\n",
    "bb = BlackBody(temperature=6000*u.K)\n",
    "LOEQ_numerador = simps(dataV[1]*dataV[2]*bb(dataV[1]), x=dataV[1])\n",
    "LOEQ_denominador = simps(dataV[2]*bb(dataV[1]), x=dataV[1])\n",
    "\n",
    "print (\"Long. de onda equivalente [\\AA] = \", LOEQ_numerador/LOEQ_denominador)\n",
    "# Que paso con el diferencial de long. de onda?\n"
   ]
  },
  {
   "cell_type": "code",
   "execution_count": 3,
   "metadata": {},
   "outputs": [
    {
     "name": "stdout",
     "output_type": "stream",
     "text": [
      "[*] min y máx de la long. de onda (V) =  4600 7350\n"
     ]
    }
   ],
   "source": [
    "## 2)\n",
    "##\n",
    "distribucion = pd.read_csv(\"distribucion_espectral_K5V.dat\", sep = \" \", comment = '#', header = None)\n",
    "distribucion[0] = distribucion[0] * 10. # Para convertir la long. de onda de nm a AA.\n",
    "# Hay alguna forma de hacer la conversion de unidades usando astropy?\n",
    "#print(distribucion)\n",
    "\n",
    "\n",
    "# Calculo la magnitud en el filtro V:\n",
    "## 2.1) Filtro la distribución de la fuente según la long. de onda\n",
    "##       disponible en el archivo de sensibilidades.\n",
    "min = dataV[1].min() # Calculo el minimo y máximo\n",
    "max = dataV[1].max() #  de las long. de onda.\n",
    "print (\"[*] min y máx de la long. de onda (V) = \", min, max)\n",
    "\n",
    "dist_filtrada = distribucion[(distribucion[0] >= min) & (distribucion[0] <= max)] # Filtro por banda.\n",
    "##      Notar: el espaciado en de la sensibilidad y de la distribucion es la misma (50 AA),\n",
    "##             por lo que no hay que hacer ninguna interpolación.\n",
    "#print (dist_filtrada)\n",
    "#print (dataV)\n",
    "\n",
    "#print (len(dist_filtrada), len(dataV)) # Tamaño de cada matriz.\n",
    "\n",
    "dataV = dataV.reset_index(drop=True) # Vuelve a cero los indices.\n",
    "dist_filtrada = dist_filtrada.reset_index(drop=True)\n",
    "\n",
    "# if coinciden los len:\n",
    "output = dist_filtrada.join(dataV, lsuffix='_caller', rsuffix='_other')\n",
    "#print(output)\n",
    "\n",
    "V = -2.5 * np.log10( simps(output['1_caller']*output[2], x=output['0_caller']) )"
   ]
  },
  {
   "cell_type": "code",
   "execution_count": 4,
   "metadata": {},
   "outputs": [
    {
     "name": "stdout",
     "output_type": "stream",
     "text": [
      "[*] min y máx de la long. de onda (B) =  3600 5550\n"
     ]
    }
   ],
   "source": [
    "# Calculo la magnitud en el filtro B:\n",
    "## 2.1) Filtro la distribución de la fuente según la long. de onda\n",
    "##       disponible en el archivo de sensibilidades.\n",
    "min = dataB[1].min() # Calculo el minimo y máximo\n",
    "max = dataB[1].max() #  de las long. de onda.\n",
    "print (\"[*] min y máx de la long. de onda (B) = \", min, max)\n",
    "\n",
    "dist_filtrada = distribucion[(distribucion[0] >= min) & (distribucion[0] <= max)] # Filtro por banda.\n",
    "##      Notar: el espaciado en de la sensibilidad y de la distribucion es la misma (50 AA),\n",
    "##             por lo que no hay que hacer ninguna interpolación.\n",
    "#print (dist_filtrada)\n",
    "#print (dataV)\n",
    "\n",
    "#print (len(dist_filtrada), len(dataV)) # Tamaño de cada matriz.\n",
    "\n",
    "dataB = dataB.reset_index(drop=True) # Vuelve a cero los indices.\n",
    "dist_filtrada = dist_filtrada.reset_index(drop=True)\n",
    "\n",
    "# if coinciden los len:\n",
    "output = dist_filtrada.join(dataB, lsuffix='_caller', rsuffix='_other')\n",
    "#print(output)\n",
    "\n",
    "B = -2.5 * np.log10( simps(output['1_caller']*output[2], x=output['0_caller']) )\n"
   ]
  },
  {
   "cell_type": "code",
   "execution_count": 5,
   "metadata": {},
   "outputs": [
    {
     "name": "stdout",
     "output_type": "stream",
     "text": [
      "[*] min y máx de la long. de onda (U) =  3000 4150\n"
     ]
    }
   ],
   "source": [
    "# Calculo la magnitud en el filtro U:\n",
    "## 2.1) Filtro la distribución de la fuente según la long. de onda\n",
    "##       disponible en el archivo de sensibilidades.\n",
    "min = dataU[1].min() # Calculo el minimo y máximo\n",
    "max = dataU[1].max() #  de las long. de onda.\n",
    "print (\"[*] min y máx de la long. de onda (U) = \", min, max)\n",
    "\n",
    "dist_filtrada = distribucion[(distribucion[0] >= min) & (distribucion[0] <= max)] # Filtro por banda.\n",
    "##      Notar: el espaciado en de la sensibilidad y de la distribucion es la misma (50 AA),\n",
    "##             por lo que no hay que hacer ninguna interpolación.\n",
    "#print (dist_filtrada)\n",
    "#print (dataV)\n",
    "\n",
    "#print (len(dist_filtrada), len(dataV)) # Tamaño de cada matriz.\n",
    "\n",
    "dataU = dataU.reset_index(drop=True) # Vuelve a cero los indices.\n",
    "dist_filtrada = dist_filtrada.reset_index(drop=True)\n",
    "\n",
    "# if coinciden los len:\n",
    "output = dist_filtrada.join(dataU, lsuffix='_caller', rsuffix='_other')\n",
    "#print(output)\n",
    "\n",
    "U = -2.5 * np.log10( simps(output['1_caller']*output[2], x=output['0_caller']) )"
   ]
  },
  {
   "cell_type": "code",
   "execution_count": 6,
   "metadata": {},
   "outputs": [
    {
     "name": "stdout",
     "output_type": "stream",
     "text": [
      "[*] color instrumental (b-v) =  0.5032222025718642\n"
     ]
    }
   ],
   "source": [
    "print (\"[*] color instrumental (b-v) = \", B-V)"
   ]
  },
  {
   "cell_type": "code",
   "execution_count": 7,
   "metadata": {},
   "outputs": [
    {
     "name": "stdout",
     "output_type": "stream",
     "text": [
      "[*] color instrumental (u-b) =  2.0661077110272004\n"
     ]
    }
   ],
   "source": [
    "print (\"[*] color instrumental (u-b) = \", U-B)"
   ]
  },
  {
   "cell_type": "code",
   "execution_count": 8,
   "metadata": {},
   "outputs": [
    {
     "data": {
      "image/png": "[encoded data removed]",
      "text/plain": [
       "<Figure size 432x288 with 1 Axes>"
      ]
     },
     "metadata": {
      "needs_background": "light"
     },
     "output_type": "display_data"
    }
   ],
   "source": [
    "# 3) Diagrama color-color\n",
    "import matplotlib.pyplot as plt\n",
    "\n",
    "diagrama = pd.read_csv('V.dat', sep=\" \", comment = '#')\n",
    "#print(diagrama)\n",
    "\n",
    "plt.plot( 'B-V', 'U-B', data=diagrama, \n",
    "         marker='o', markerfacecolor='red', markersize=12, color='darkred', linewidth=4)\n",
    "plt.rcParams['figure.figsize'] = [8, 8]\n",
    "plt.rcParams.update({'font.size': 20})\n",
    "plt.rcParams['figure.dpi'] = 50\n",
    "\n",
    "plt.xlabel('(B-V)')\n",
    "plt.ylabel('(U-B)')\n",
    "plt.gca().invert_yaxis()\n",
    "#plt.gca().set_aspect('equal')\n",
    "plt.show()"
   ]
  },
  {
   "cell_type": "code",
   "execution_count": null,
   "metadata": {},
   "outputs": [],
   "source": []
  }
 ],
 "metadata": {
  "kernelspec": {
   "display_name": "Python 3",
   "language": "python",
   "name": "python3"
  },
  "language_info": {
   "codemirror_mode": {
    "name": "ipython",
    "version": 3
   },
   "file_extension": ".py",
   "mimetype": "text/x-python",
   "name": "python",
   "nbconvert_exporter": "python",
   "pygments_lexer": "ipython3",
   "version": "3.7.7"
  }
 },
 "nbformat": 4,
 "nbformat_minor": 4
}
