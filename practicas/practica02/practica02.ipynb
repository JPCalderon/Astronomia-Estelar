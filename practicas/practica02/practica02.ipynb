{
 "cells": [
  {
   "cell_type": "markdown",
   "metadata": {},
   "source": [
    "# El sistema astronómico de magnitudes y colores\n",
    "\n",
    "**Objetivos:** \n",
    "* Calcular la longitud de onda efectiva y equivalente, teniendo en cuenta la sensibilidad de un determinado filtro y el flujo emitido por una determinada fuente.\n",
    "* Graficar la sensibilidad de un sistema de filtros.\n",
    "* Calcular los colores instrumentales a partir de una fuente de energía."
   ]
  },
  {
   "cell_type": "code",
   "execution_count": 1,
   "metadata": {},
   "outputs": [
    {
     "data": {
      "text/html": [
       "<div>\n",
       "<style scoped>\n",
       "    .dataframe tbody tr th:only-of-type {\n",
       "        vertical-align: middle;\n",
       "    }\n",
       "\n",
       "    .dataframe tbody tr th {\n",
       "        vertical-align: top;\n",
       "    }\n",
       "\n",
       "    .dataframe thead th {\n",
       "        text-align: right;\n",
       "    }\n",
       "</style>\n",
       "<table border=\"1\" class=\"dataframe\">\n",
       "  <thead>\n",
       "    <tr style=\"text-align: right;\">\n",
       "      <th></th>\n",
       "      <th>0</th>\n",
       "      <th>1</th>\n",
       "      <th>2</th>\n",
       "      <th>3</th>\n",
       "    </tr>\n",
       "  </thead>\n",
       "  <tbody>\n",
       "    <tr>\n",
       "      <th>0</th>\n",
       "      <td>B</td>\n",
       "      <td>3600</td>\n",
       "      <td>0.00</td>\n",
       "      <td>0.00</td>\n",
       "    </tr>\n",
       "    <tr>\n",
       "      <th>1</th>\n",
       "      <td>B</td>\n",
       "      <td>3650</td>\n",
       "      <td>0.00</td>\n",
       "      <td>0.00</td>\n",
       "    </tr>\n",
       "    <tr>\n",
       "      <th>2</th>\n",
       "      <td>B</td>\n",
       "      <td>3700</td>\n",
       "      <td>0.02</td>\n",
       "      <td>0.02</td>\n",
       "    </tr>\n",
       "    <tr>\n",
       "      <th>3</th>\n",
       "      <td>B</td>\n",
       "      <td>3750</td>\n",
       "      <td>0.05</td>\n",
       "      <td>0.05</td>\n",
       "    </tr>\n",
       "    <tr>\n",
       "      <th>4</th>\n",
       "      <td>B</td>\n",
       "      <td>3800</td>\n",
       "      <td>0.11</td>\n",
       "      <td>0.11</td>\n",
       "    </tr>\n",
       "    <tr>\n",
       "      <th>...</th>\n",
       "      <td>...</td>\n",
       "      <td>...</td>\n",
       "      <td>...</td>\n",
       "      <td>...</td>\n",
       "    </tr>\n",
       "    <tr>\n",
       "      <th>304</th>\n",
       "      <td>V</td>\n",
       "      <td>7150</td>\n",
       "      <td>0.01</td>\n",
       "      <td>0.01</td>\n",
       "    </tr>\n",
       "    <tr>\n",
       "      <th>305</th>\n",
       "      <td>V</td>\n",
       "      <td>7200</td>\n",
       "      <td>0.01</td>\n",
       "      <td>0.01</td>\n",
       "    </tr>\n",
       "    <tr>\n",
       "      <th>306</th>\n",
       "      <td>V</td>\n",
       "      <td>7250</td>\n",
       "      <td>0.01</td>\n",
       "      <td>0.01</td>\n",
       "    </tr>\n",
       "    <tr>\n",
       "      <th>307</th>\n",
       "      <td>V</td>\n",
       "      <td>7300</td>\n",
       "      <td>0.01</td>\n",
       "      <td>0.01</td>\n",
       "    </tr>\n",
       "    <tr>\n",
       "      <th>308</th>\n",
       "      <td>V</td>\n",
       "      <td>7350</td>\n",
       "      <td>0.00</td>\n",
       "      <td>0.00</td>\n",
       "    </tr>\n",
       "  </tbody>\n",
       "</table>\n",
       "<p>309 rows × 4 columns</p>\n",
       "</div>"
      ],
      "text/plain": [
       "     0     1     2     3\n",
       "0    B  3600  0.00  0.00\n",
       "1    B  3650  0.00  0.00\n",
       "2    B  3700  0.02  0.02\n",
       "3    B  3750  0.05  0.05\n",
       "4    B  3800  0.11  0.11\n",
       "..  ..   ...   ...   ...\n",
       "304  V  7150  0.01  0.01\n",
       "305  V  7200  0.01  0.01\n",
       "306  V  7250  0.01  0.01\n",
       "307  V  7300  0.01  0.01\n",
       "308  V  7350  0.00  0.00\n",
       "\n",
       "[309 rows x 4 columns]"
      ]
     },
     "execution_count": 1,
     "metadata": {},
     "output_type": "execute_result"
    }
   ],
   "source": [
    "import pandas as pd\n",
    "data = pd.read_csv ( 'UBVRI.dat', sep=\" \", comment = '#', header = None )\n",
    "data # Se accede a cada columna mediante: data[0], data[1], ..."
   ]
  },
  {
   "cell_type": "code",
   "execution_count": 66,
   "metadata": {},
   "outputs": [
    {
     "data": {
      "image/png": "[encoded data removed]",
      "text/plain": [
       "<Figure size 400x400 with 1 Axes>"
      ]
     },
     "metadata": {
      "needs_background": "light"
     },
     "output_type": "display_data"
    },
    {
     "name": "stderr",
     "output_type": "stream",
     "text": [
      "/home/juanpablo/materias/Astronomia-Estelar/.conda/envs/AEpracticas/lib/python3.7/site-packages/ipykernel_launcher.py:23: ParserWarning: Falling back to the 'python' engine because the 'c' engine does not support regex separators (separators > 1 char and different from '\\s+' are interpreted as regex); you can avoid this warning by specifying engine='python'.\n"
     ]
    },
    {
     "data": {
      "image/png": "[encoded data removed]",
      "text/plain": [
       "<Figure size 400x400 with 1 Axes>"
      ]
     },
     "metadata": {
      "needs_background": "light"
     },
     "output_type": "display_data"
    }
   ],
   "source": [
    "# Filtro los datos por color.\n",
    "import matplotlib.pyplot as plt\n",
    "\n",
    "dataU = data[data[0] == 'U'] # Filtro por banda.\n",
    "dataB = data[data[0] == 'B'] # Filtro por banda.\n",
    "dataV = data[data[0] == 'V'] # Filtro por banda.\n",
    "#print(dataV[0]) % Sirve para comprobar si el filtrado funciono bien.\n",
    "\n",
    "plt.plot( dataU[1], dataU[2], linewidth = 2 )\n",
    "plt.plot( dataV[1], dataV[2], linewidth = 2 ) \n",
    "\n",
    "plt.rcParams['figure.figsize'] = [8, 8]\n",
    "plt.rcParams.update({'font.size': 20})\n",
    "plt.rcParams['figure.dpi'] = 50\n",
    "\n",
    "plt.xlabel('long. de onda [\\AA]')\n",
    "plt.ylabel('sensibilidad')\n",
    "\n",
    "plt.legend(labels = 'UV', bbox_to_anchor=(1.3,1), ncol = 1)\n",
    "plt.show()\n",
    "\n",
    "gmos_g = pd.read_csv('http://www.gemini.edu/sciops/instruments/gmos/filters/gmos_s_u_G0332_jun2017.txt', \n",
    "                     sep = \"  \", comment = '#', header = None ) # le puse dos espacios de separacion\n",
    "#print (gmos_g)\n",
    "\n",
    "plt.plot( gmos_g[0] * 10., gmos_g[1], linewidth = 2 ) # Paso la long. de onda a \\AA\n",
    "plt.xlabel('long. de onda [\\AA]')\n",
    "plt.ylabel('sensibilidad')\n",
    "\n",
    "plt.legend(labels = 'g', bbox_to_anchor=(1.3,1), ncol = 1)\n",
    "plt.show()"
   ]
  },
  {
   "cell_type": "code",
   "execution_count": 3,
   "metadata": {},
   "outputs": [
    {
     "name": "stdout",
     "output_type": "stream",
     "text": [
      "Long. de onda media [\\AA] =  5535.781242639785\n",
      "Long. de onda equivalente [\\AA] =  5588.277416787293\n"
     ]
    }
   ],
   "source": [
    "## 1)\n",
    "##\n",
    "from scipy.integrate import simps\n",
    "import numpy as np\n",
    "\n",
    "from astropy.modeling.models import BlackBody\n",
    "from astropy import units as u\n",
    "\n",
    "LOE_numerador = simps(dataV[1]*dataV[2], x=dataV[1])\n",
    "LOE_denominador = simps(dataV[2], x=dataV[1])\n",
    "\n",
    "print (\"Long. de onda media [\\AA] = \", LOE_numerador/LOE_denominador)\n",
    "\n",
    "bb = BlackBody(temperature=6000*u.K)\n",
    "LOEQ_numerador = simps(dataV[1]*dataV[2]*bb(dataV[1]), x=dataV[1])\n",
    "LOEQ_denominador = simps(dataV[2]*bb(dataV[1]), x=dataV[1])\n",
    "\n",
    "print (\"Long. de onda equivalente [\\AA] = \", LOEQ_numerador/LOEQ_denominador)\n",
    "# Que paso con el diferencial de long. de onda?\n"
   ]
  },
  {
   "cell_type": "code",
   "execution_count": 67,
   "metadata": {},
   "outputs": [
    {
     "name": "stdout",
     "output_type": "stream",
     "text": [
      "           0     1\n",
      "0     1200.0   0.0\n",
      "1     1250.0   0.0\n",
      "2     1300.0   0.0\n",
      "3     1350.0   0.0\n",
      "4     1400.0   0.0\n",
      "..       ...   ...\n",
      "183  10350.0  80.5\n",
      "184  10400.0  81.2\n",
      "185  10450.0  80.0\n",
      "186  10500.0  78.5\n",
      "187  12500.0  54.0\n",
      "\n",
      "[188 rows x 2 columns]\n",
      "[*] min y máx de la long. de onda (V) =  4600 7350\n",
      "          0      1\n",
      "68   4600.0   81.0\n",
      "69   4650.0   82.0\n",
      "70   4700.0   82.2\n",
      "71   4750.0   79.0\n",
      "72   4800.0   76.0\n",
      "73   4850.0   79.5\n",
      "74   4900.0   79.5\n",
      "75   4950.0   78.0\n",
      "76   5000.0   72.0\n",
      "77   5050.0   66.5\n",
      "78   5100.0   62.0\n",
      "79   5150.0   60.5\n",
      "80   5200.0   61.8\n",
      "81   5250.0   77.0\n",
      "82   5300.0   88.0\n",
      "83   5350.0   92.0\n",
      "84   5400.0   93.5\n",
      "85   5450.0   96.5\n",
      "86   5500.0  100.0\n",
      "87   5550.0  104.0\n",
      "88   5600.0  101.5\n",
      "89   5650.0  108.0\n",
      "90   5700.0  109.5\n",
      "91   5750.0  112.0\n",
      "92   5800.0  113.0\n",
      "93   5850.0  112.0\n",
      "94   5900.0  100.0\n",
      "95   5950.0  116.0\n",
      "96   6000.0  114.5\n",
      "97   6050.0  117.5\n",
      "98   6100.0  113.0\n",
      "99   6150.0  109.5\n",
      "100  6200.0  111.5\n",
      "101  6250.0  109.0\n",
      "102  6300.0  112.0\n",
      "103  6350.0  114.0\n",
      "104  6400.0  113.0\n",
      "105  6450.0  114.0\n",
      "106  6500.0  117.5\n",
      "107  6550.0  120.0\n",
      "108  6600.0  119.5\n",
      "109  6650.0  118.0\n",
      "110  6700.0  115.5\n",
      "111  6750.0  113.5\n",
      "112  6800.0  111.5\n",
      "113  6850.0  109.5\n",
      "114  6900.0  110.0\n",
      "115  6950.0  112.5\n",
      "116  7000.0  114.5\n",
      "117  7050.0  115.0\n",
      "118  7100.0  114.5\n",
      "119  7150.0  112.0\n",
      "120  7200.0  109.0\n",
      "121  7250.0  109.0\n",
      "122  7300.0  111.0\n",
      "123  7350.0  111.0\n",
      "     0     1     2      3\n",
      "253  V  4600  0.00  0.000\n",
      "254  V  4650  0.00  0.000\n",
      "255  V  4700  0.01  0.010\n",
      "256  V  4750  0.01  0.010\n",
      "257  V  4800  0.02  0.020\n",
      "258  V  4850  0.05  0.051\n",
      "259  V  4900  0.11  0.112\n",
      "260  V  4950  0.20  0.204\n",
      "261  V  5000  0.38  0.388\n",
      "262  V  5050  0.67  0.684\n",
      "263  V  5100  0.78  0.796\n",
      "264  V  5150  0.85  0.867\n",
      "265  V  5200  0.91  0.929\n",
      "266  V  5250  0.94  0.959\n",
      "267  V  5300  0.96  0.980\n",
      "268  V  5350  0.98  1.000\n",
      "269  V  5400  0.98  1.000\n",
      "270  V  5450  0.95  0.969\n",
      "271  V  5500  0.87  0.888\n",
      "272  V  5550  0.79  0.806\n",
      "273  V  5600  0.72  0.735\n",
      "274  V  5650  0.71  0.724\n",
      "275  V  5700  0.69  0.704\n",
      "276  V  5750  0.65  0.663\n",
      "277  V  5800  0.62  0.633\n",
      "278  V  5850  0.58  0.592\n",
      "279  V  5900  0.52  0.531\n",
      "280  V  5950  0.46  0.469\n",
      "281  V  6000  0.40  0.408\n",
      "282  V  6050  0.34  0.347\n",
      "283  V  6100  0.29  0.296\n",
      "284  V  6150  0.24  0.245\n",
      "285  V  6200  0.20  0.204\n",
      "286  V  6250  0.17  0.173\n",
      "287  V  6300  0.14  0.143\n",
      "288  V  6350  0.11  0.112\n",
      "289  V  6400  0.08  0.082\n",
      "290  V  6450  0.06  0.061\n",
      "291  V  6500  0.05  0.051\n",
      "292  V  6550  0.03  0.031\n",
      "293  V  6600  0.02  0.020\n",
      "294  V  6650  0.02  0.020\n",
      "295  V  6700  0.01  0.010\n",
      "296  V  6750  0.01  0.010\n",
      "297  V  6800  0.01  0.010\n",
      "298  V  6850  0.01  0.010\n",
      "299  V  6900  0.01  0.010\n",
      "300  V  6950  0.01  0.010\n",
      "301  V  7000  0.01  0.010\n",
      "302  V  7050  0.01  0.010\n",
      "303  V  7100  0.01  0.010\n",
      "304  V  7150  0.01  0.010\n",
      "305  V  7200  0.01  0.010\n",
      "306  V  7250  0.01  0.010\n",
      "307  V  7300  0.01  0.010\n",
      "308  V  7350  0.00  0.000\n",
      "56 56\n",
      "    0_caller  1_caller 0_other  1_other     2      3\n",
      "0     4600.0      81.0       V     4600  0.00  0.000\n",
      "1     4650.0      82.0       V     4650  0.00  0.000\n",
      "2     4700.0      82.2       V     4700  0.01  0.010\n",
      "3     4750.0      79.0       V     4750  0.01  0.010\n",
      "4     4800.0      76.0       V     4800  0.02  0.020\n",
      "5     4850.0      79.5       V     4850  0.05  0.051\n",
      "6     4900.0      79.5       V     4900  0.11  0.112\n",
      "7     4950.0      78.0       V     4950  0.20  0.204\n",
      "8     5000.0      72.0       V     5000  0.38  0.388\n",
      "9     5050.0      66.5       V     5050  0.67  0.684\n",
      "10    5100.0      62.0       V     5100  0.78  0.796\n",
      "11    5150.0      60.5       V     5150  0.85  0.867\n",
      "12    5200.0      61.8       V     5200  0.91  0.929\n",
      "13    5250.0      77.0       V     5250  0.94  0.959\n",
      "14    5300.0      88.0       V     5300  0.96  0.980\n",
      "15    5350.0      92.0       V     5350  0.98  1.000\n",
      "16    5400.0      93.5       V     5400  0.98  1.000\n",
      "17    5450.0      96.5       V     5450  0.95  0.969\n",
      "18    5500.0     100.0       V     5500  0.87  0.888\n",
      "19    5550.0     104.0       V     5550  0.79  0.806\n",
      "20    5600.0     101.5       V     5600  0.72  0.735\n",
      "21    5650.0     108.0       V     5650  0.71  0.724\n",
      "22    5700.0     109.5       V     5700  0.69  0.704\n",
      "23    5750.0     112.0       V     5750  0.65  0.663\n",
      "24    5800.0     113.0       V     5800  0.62  0.633\n",
      "25    5850.0     112.0       V     5850  0.58  0.592\n",
      "26    5900.0     100.0       V     5900  0.52  0.531\n",
      "27    5950.0     116.0       V     5950  0.46  0.469\n",
      "28    6000.0     114.5       V     6000  0.40  0.408\n",
      "29    6050.0     117.5       V     6050  0.34  0.347\n",
      "30    6100.0     113.0       V     6100  0.29  0.296\n",
      "31    6150.0     109.5       V     6150  0.24  0.245\n",
      "32    6200.0     111.5       V     6200  0.20  0.204\n",
      "33    6250.0     109.0       V     6250  0.17  0.173\n",
      "34    6300.0     112.0       V     6300  0.14  0.143\n",
      "35    6350.0     114.0       V     6350  0.11  0.112\n",
      "36    6400.0     113.0       V     6400  0.08  0.082\n",
      "37    6450.0     114.0       V     6450  0.06  0.061\n",
      "38    6500.0     117.5       V     6500  0.05  0.051\n",
      "39    6550.0     120.0       V     6550  0.03  0.031\n",
      "40    6600.0     119.5       V     6600  0.02  0.020\n",
      "41    6650.0     118.0       V     6650  0.02  0.020\n",
      "42    6700.0     115.5       V     6700  0.01  0.010\n",
      "43    6750.0     113.5       V     6750  0.01  0.010\n",
      "44    6800.0     111.5       V     6800  0.01  0.010\n",
      "45    6850.0     109.5       V     6850  0.01  0.010\n",
      "46    6900.0     110.0       V     6900  0.01  0.010\n",
      "47    6950.0     112.5       V     6950  0.01  0.010\n",
      "48    7000.0     114.5       V     7000  0.01  0.010\n",
      "49    7050.0     115.0       V     7050  0.01  0.010\n",
      "50    7100.0     114.5       V     7100  0.01  0.010\n",
      "51    7150.0     112.0       V     7150  0.01  0.010\n",
      "52    7200.0     109.0       V     7200  0.01  0.010\n",
      "53    7250.0     109.0       V     7250  0.01  0.010\n",
      "54    7300.0     111.0       V     7300  0.01  0.010\n",
      "55    7350.0     111.0       V     7350  0.00  0.000\n"
     ]
    }
   ],
   "source": [
    "## 2)\n",
    "##\n",
    "distribucion = pd.read_csv(\"distribucion_espectral_K5V.dat\", sep = \" \", comment = '#', header = None)\n",
    "distribucion[0] = distribucion[0] * 10. # Para convertir la long. de onda de nm a AA.\n",
    "# Hay alguna forma de hacer la conversion de unidades usando astropy?\n",
    "print(distribucion)\n",
    "\n",
    "\n",
    "# Calculo la magnitud en el filtro V:\n",
    "## 2.1) Filtro la distribución de la fuente según la long. de onda\n",
    "##       disponible en el archivo de sensibilidades.\n",
    "min = dataV[1].min() # Calculo el minimo y máximo\n",
    "max = dataV[1].max() #  de las long. de onda.\n",
    "print (\"[*] min y máx de la long. de onda (V) = \", min, max)\n",
    "\n",
    "dist_filtrada = distribucion[(distribucion[0] >= min) & (distribucion[0] <= max)] # Filtro por banda.\n",
    "##      Notar: el espaciado en de la sensibilidad y de la distribucion es la misma (50 AA),\n",
    "##             por lo que no hay que hacer ninguna interpolación.\n",
    "print (dist_filtrada)\n",
    "print (dataV)\n",
    "\n",
    "print (len(dist_filtrada), len(dataV)) # Tamaño de cada matriz.\n",
    "\n",
    "dataV = dataV.reset_index(drop=True) # Vuelve a cero los indices.\n",
    "dist_filtrada = dist_filtrada.reset_index(drop=True)\n",
    "\n",
    "# if coinciden los len:\n",
    "output = dist_filtrada.join(dataV, lsuffix='_caller', rsuffix='_other')\n",
    "print(output)\n",
    "\n",
    "V = -2.5 * np.log10( simps(output['1_caller']*output[2], x=output['0_caller']) )"
   ]
  },
  {
   "cell_type": "code",
   "execution_count": 5,
   "metadata": {},
   "outputs": [
    {
     "name": "stdout",
     "output_type": "stream",
     "text": [
      "[*] min y máx de la long. de onda (B) =  3600 5550\n"
     ]
    }
   ],
   "source": [
    "# Calculo la magnitud en el filtro B:\n",
    "## 2.1) Filtro la distribución de la fuente según la long. de onda\n",
    "##       disponible en el archivo de sensibilidades.\n",
    "min = dataB[1].min() # Calculo el minimo y máximo\n",
    "max = dataB[1].max() #  de las long. de onda.\n",
    "print (\"[*] min y máx de la long. de onda (B) = \", min, max)\n",
    "\n",
    "dist_filtrada = distribucion[(distribucion[0] >= min) & (distribucion[0] <= max)] # Filtro por banda.\n",
    "##      Notar: el espaciado en de la sensibilidad y de la distribucion es la misma (50 AA),\n",
    "##             por lo que no hay que hacer ninguna interpolación.\n",
    "#print (dist_filtrada)\n",
    "#print (dataV)\n",
    "\n",
    "#print (len(dist_filtrada), len(dataV)) # Tamaño de cada matriz.\n",
    "\n",
    "dataB = dataB.reset_index(drop=True) # Vuelve a cero los indices.\n",
    "dist_filtrada = dist_filtrada.reset_index(drop=True)\n",
    "\n",
    "# if coinciden los len:\n",
    "output = dist_filtrada.join(dataB, lsuffix='_caller', rsuffix='_other')\n",
    "#print(output)\n",
    "\n",
    "B = -2.5 * np.log10( simps(output['1_caller']*output[2], x=output['0_caller']) )\n"
   ]
  },
  {
   "cell_type": "code",
   "execution_count": 6,
   "metadata": {},
   "outputs": [
    {
     "name": "stdout",
     "output_type": "stream",
     "text": [
      "[*] min y máx de la long. de onda (U) =  3000 4150\n"
     ]
    }
   ],
   "source": [
    "# Calculo la magnitud en el filtro U:\n",
    "## 2.1) Filtro la distribución de la fuente según la long. de onda\n",
    "##       disponible en el archivo de sensibilidades.\n",
    "min = dataU[1].min() # Calculo el minimo y máximo\n",
    "max = dataU[1].max() #  de las long. de onda.\n",
    "print (\"[*] min y máx de la long. de onda (U) = \", min, max)\n",
    "\n",
    "dist_filtrada = distribucion[(distribucion[0] >= min) & (distribucion[0] <= max)] # Filtro por banda.\n",
    "##      Notar: el espaciado en de la sensibilidad y de la distribucion es la misma (50 AA),\n",
    "##             por lo que no hay que hacer ninguna interpolación.\n",
    "#print (dist_filtrada)\n",
    "#print (dataV)\n",
    "\n",
    "#print (len(dist_filtrada), len(dataV)) # Tamaño de cada matriz.\n",
    "\n",
    "dataU = dataU.reset_index(drop=True) # Vuelve a cero los indices.\n",
    "dist_filtrada = dist_filtrada.reset_index(drop=True)\n",
    "\n",
    "# if coinciden los len:\n",
    "output = dist_filtrada.join(dataU, lsuffix='_caller', rsuffix='_other')\n",
    "#print(output)\n",
    "\n",
    "U = -2.5 * np.log10( simps(output['1_caller']*output[2], x=output['0_caller']) )"
   ]
  },
  {
   "cell_type": "code",
   "execution_count": 7,
   "metadata": {},
   "outputs": [
    {
     "name": "stdout",
     "output_type": "stream",
     "text": [
      "[*] color instrumental (b-v) =  0.5032222025718642\n"
     ]
    }
   ],
   "source": [
    "print (\"[*] color instrumental (b-v) = \", B-V)"
   ]
  },
  {
   "cell_type": "code",
   "execution_count": 8,
   "metadata": {},
   "outputs": [
    {
     "name": "stdout",
     "output_type": "stream",
     "text": [
      "[*] color instrumental (u-b) =  2.0661077110272004\n"
     ]
    }
   ],
   "source": [
    "print (\"[*] color instrumental (u-b) = \", U-B)"
   ]
  },
  {
   "cell_type": "code",
   "execution_count": 9,
   "metadata": {},
   "outputs": [
    {
     "name": "stderr",
     "output_type": "stream",
     "text": [
      "\n",
      "Bad key \"axes.color_cycle\" on line 215 in\n",
      "/home/juanpablo/materias/Astronomia-Estelar/practicas/practica02/matplotlibrc.\n",
      "You probably need to get an updated matplotlibrc file from\n",
      "https://github.com/matplotlib/matplotlib/blob/v3.2.2/matplotlibrc.template\n",
      "or from the matplotlib source distribution\n"
     ]
    },
    {
     "data": {
      "image/png": "[encoded data removed]",
      "text/plain": [
       "<Figure size 432x288 with 1 Axes>"
      ]
     },
     "metadata": {
      "needs_background": "light"
     },
     "output_type": "display_data"
    }
   ],
   "source": [
    "# 3) Diagrama color-color\n",
    "import matplotlib.pyplot as plt\n",
    "\n",
    "diagrama = pd.read_csv('V.dat', sep=\" \", comment = '#')\n",
    "#print(diagrama)\n",
    "\n",
    "plt.plot( 'B-V', 'U-B', data = diagrama, \n",
    "         marker = 'o', markerfacecolor = 'red', markersize = 12, color = 'darkred', linewidth = 4 )\n",
    "plt.rcParams['figure.figsize'] = [8, 8]\n",
    "plt.rcParams.update({'font.size': 20})\n",
    "plt.rcParams['figure.dpi'] = 50\n",
    "\n",
    "plt.xlabel('(B-V)')\n",
    "plt.ylabel('(U-B)')\n",
    "plt.gca().invert_yaxis()\n",
    "#plt.gca().set_aspect('equal')\n",
    "plt.show()"
   ]
  },
  {
   "cell_type": "code",
   "execution_count": null,
   "metadata": {},
   "outputs": [],
   "source": []
  }
 ],
 "metadata": {
  "kernelspec": {
   "display_name": "Python 3",
   "language": "python",
   "name": "python3"
  },
  "language_info": {
   "codemirror_mode": {
    "name": "ipython",
    "version": 3
   },
   "file_extension": ".py",
   "mimetype": "text/x-python",
   "name": "python",
   "nbconvert_exporter": "python",
   "pygments_lexer": "ipython3",
   "version": "3.7.7"
  }
 },
 "nbformat": 4,
 "nbformat_minor": 4
}
