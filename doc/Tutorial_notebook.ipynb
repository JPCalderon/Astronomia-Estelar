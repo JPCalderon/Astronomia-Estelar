{
 "cells": [
  {
   "cell_type": "markdown",
   "metadata": {},
   "source": [
    "<a id='introduccion'></a>\n",
    "# Introducción de python para jupyter-notebook \n",
    "\n",
    "*Python* es un lenguaje de programación 'interpretado', 'multiparadigma' y 'multiplataforma', \n",
    "utilizado principalmente en análisis de datos. \n",
    "\n",
    "Nosotros vamos a usar las funciones básicas, integradas en este formato de **jupyter-notebook** (https://jupyter.org/), que se utiliza directamente en el navegador web. Se puede ejecutar cada\n",
    "celda apretando \"CTRL+enter\", que sería lo equivalente a ingresar el código por línea de comando.\n",
    "\n",
    "Lo que sigue son ejemplos (y herramientas) que van a necesitar para resolver los ejercicios propuestos, \n",
    "en cada una de las prácticas de la materia:\n",
    "\n",
    "1. [Cadena de caracteres (strings)](#cadena_de_caracteres)\n",
    "2. [Aritmetica básica](#aritmetica_basica)\n",
    "3. [Listas (matrices)](#listas)\n",
    "4. [Leer archivos de datos (e importar modulos de python)](#leer_archivos)\n",
    "5. [Integrales (y funciones especiale)](#integrales)\n"
   ]
  },
  {
   "cell_type": "markdown",
   "metadata": {},
   "source": [
    "<a id='cadena_de_caracteres'></a>\n",
    "## 1. Cadena de caracteres"
   ]
  },
  {
   "cell_type": "code",
   "execution_count": 65,
   "metadata": {},
   "outputs": [
    {
     "name": "stdout",
     "output_type": "stream",
     "text": [
      "Hola a todes\n"
     ]
    }
   ],
   "source": [
    "print (\"Hola a todes\") # Impresión de texto."
   ]
  },
  {
   "cell_type": "code",
   "execution_count": 66,
   "metadata": {},
   "outputs": [
    {
     "name": "stdout",
     "output_type": "stream",
     "text": [
      "Hola\n",
      "a\n",
      "todes\n"
     ]
    }
   ],
   "source": [
    "print ('''Hola\\na\\ntodes''') # Para cortar líneas de texto."
   ]
  },
  {
   "cell_type": "markdown",
   "metadata": {},
   "source": [
    "Todos los lenguajes de programación tienen una operación que une, junta o pega variables de diferentes tipos (**concatenar**). Esto puede servir para simplemente dar un resultado: texto + variable; o para formar nuevas variables que se usan en el flujo del código."
   ]
  },
  {
   "cell_type": "code",
   "execution_count": 67,
   "metadata": {},
   "outputs": [
    {
     "name": "stdout",
     "output_type": "stream",
     "text": [
      "Hola a todes\n",
      "Bienvenidos y bienvenidas a la cursada 2020 B\n",
      "<class 'str'> <class 'int'>\n",
      "5 4\n"
     ]
    }
   ],
   "source": [
    "variable = \"todes\"\n",
    "cursada  = 2020\n",
    "\n",
    "print (\"Hola a \" + variable) # Cómo concatenar texto,\n",
    "print (\"Bienvenidos y bienvenidas a la cursada\", cursada, \"B\") # y variables.\n",
    "\n",
    "print (type(variable), type(cursada)) # Tipo de variable\n",
    "print (len(variable), len(str(cursada))) # Tamaño de variable"
   ]
  },
  {
   "cell_type": "markdown",
   "metadata": {},
   "source": [
    "<a id='aritmetica_basica'></a>\n",
    "## 2. Aritmética básica "
   ]
  },
  {
   "cell_type": "code",
   "execution_count": 69,
   "metadata": {},
   "outputs": [
    {
     "name": "stdout",
     "output_type": "stream",
     "text": [
      "4 4 4\n"
     ]
    }
   ],
   "source": [
    "print (2+2, 2*2, 2**2)"
   ]
  },
  {
   "cell_type": "markdown",
   "metadata": {},
   "source": [
    "Para definir funciones (que pueden devolver tanto números como caracteres) se utiliza el comando ```def funcion(argumento):```. Noten que la función se \"cierra\" una vez que el código deja de estar indentado, es decir, comienza en la columna uno (_esto es mucho muy importante_)."
   ]
  },
  {
   "cell_type": "code",
   "execution_count": 70,
   "metadata": {},
   "outputs": [
    {
     "name": "stdout",
     "output_type": "stream",
     "text": [
      "36.1\n"
     ]
    }
   ],
   "source": [
    "def fahrenheit_to_celsius(grados_fahrenheit):\n",
    "    \"\"\"convierte una temperatura en grados Fahrenheit a grados Celsius\"\"\"\n",
    "    grados_celsius = (grados_fahrenheit-32)*5/9\n",
    "    return round(grados_celsius, 1) # Con la función round, trunco el resultado a un decimal.\n",
    "\n",
    "temp = 97\n",
    "print (fahrenheit_to_celsius(temp))"
   ]
  },
  {
   "cell_type": "markdown",
   "metadata": {},
   "source": [
    "<a id='listas'></a>\n",
    "## 3. Listas\n",
    "\n",
    "Las listas o diccionarios son lo que podriamos pensar como vectores y/o matrices. Se pueden hacer listas dentro de listas, unir dos o mas listas, modificar su contenido, etc.\n",
    "\n",
    "Lo importante es tener en cuenta que las vamos a usar en el sentido de una _tabla de datos_. Es decir, los datos estaran ordenados en filas y columnas, y lo importante será poder acceder a cada columna por el orden en el que aparece o por el encabezado que tenga (título de la columna). Más adelante tendrán mas ejemplos."
   ]
  },
  {
   "cell_type": "code",
   "execution_count": 71,
   "metadata": {},
   "outputs": [
    {
     "name": "stdout",
     "output_type": "stream",
     "text": [
      "['A', 's', 't', 'r', 'o', 'n', 'o', 'm', 'í', 'a']\n",
      "Astronomía\n",
      "Astronomía Estelar\n",
      "A\n",
      "s\n",
      "t\n",
      "r\n",
      "o\n",
      "n\n",
      "o\n",
      "m\n",
      "í\n",
      "a\n",
      " Estelar\n"
     ]
    }
   ],
   "source": [
    "lista = ['A', 's', 't', 'r', 'o', 'n', 'o', 'm', 'í', 'a']\n",
    "\n",
    "print (lista)\n",
    "print (''.join(lista))\n",
    "\n",
    "lista.append(' Estelar')\n",
    "print (''.join(lista))\n",
    "\n",
    "for l in lista:\n",
    "    print (l) # indentación = 4 espacios\n"
   ]
  },
  {
   "cell_type": "code",
   "execution_count": 72,
   "metadata": {},
   "outputs": [
    {
     "name": "stdout",
     "output_type": "stream",
     "text": [
      "(3.2, 7.43, ['L'], 33)\n",
      "3.2 ['L']\n"
     ]
    }
   ],
   "source": [
    "lista2 = ( 3.2, 7.43, ['L'], 33 ) # Este objeto es un 'tuple'. No puede modificarse.\n",
    "\n",
    "print (lista2)\n",
    "print (lista2[0], lista2[2])\n",
    "# lista2.append('-5') # Como no puede modificarse, esto generaría un error."
   ]
  },
  {
   "cell_type": "markdown",
   "metadata": {},
   "source": [
    "Noten en el siguiente ejemplo que hay dos niveles de indentado (4 espacios). El primero arranca con el ```for```, mientras que el segundo define el ```if```."
   ]
  },
  {
   "cell_type": "code",
   "execution_count": 73,
   "metadata": {},
   "outputs": [
    {
     "name": "stdout",
     "output_type": "stream",
     "text": [
      "menor que 20: 10\n",
      "menor que 20: 15\n",
      "mayor que 20: 20\n",
      "mayor que 20: 25\n"
     ]
    }
   ],
   "source": [
    "for i in range(10, 30, 5):\n",
    "    if i >= 20:\n",
    "        print (\"mayor que 20:\", i)\n",
    "    else:\n",
    "        print (\"menor que 20:\", i)"
   ]
  },
  {
   "cell_type": "markdown",
   "metadata": {},
   "source": [
    "<a id='leer_archivos'></a>\n",
    "## 4. Leer archivos\n",
    "\n",
    "Para leer archivos, en este caso, vamos a importar un módulo o paquete de python que tienen integradas funciones específicas. El módulo ```pandas``` permite trabajar con objetos (tipo matrices), utilizando el nombre de las columnas para (por ejemplo) graficar y correlacionar datos.\n",
    "\n",
    "agregar log exp y integrales"
   ]
  },
  {
   "cell_type": "code",
   "execution_count": 74,
   "metadata": {},
   "outputs": [
    {
     "data": {
      "text/html": [
       "<div>\n",
       "<style scoped>\n",
       "    .dataframe tbody tr th:only-of-type {\n",
       "        vertical-align: middle;\n",
       "    }\n",
       "\n",
       "    .dataframe tbody tr th {\n",
       "        vertical-align: top;\n",
       "    }\n",
       "\n",
       "    .dataframe thead th {\n",
       "        text-align: right;\n",
       "    }\n",
       "</style>\n",
       "<table border=\"1\" class=\"dataframe\">\n",
       "  <thead>\n",
       "    <tr style=\"text-align: right;\">\n",
       "      <th></th>\n",
       "      <th>2007</th>\n",
       "      <th>BECARIO</th>\n",
       "      <th>ASISTENTES</th>\n",
       "      <th>ADJUNTOS</th>\n",
       "      <th>INDEPENDIENTES</th>\n",
       "      <th>PRINCIPALES</th>\n",
       "      <th>SUPERIORES</th>\n",
       "    </tr>\n",
       "  </thead>\n",
       "  <tbody>\n",
       "    <tr>\n",
       "      <th>0</th>\n",
       "      <td>KA</td>\n",
       "      <td>955</td>\n",
       "      <td>237</td>\n",
       "      <td>313</td>\n",
       "      <td>209</td>\n",
       "      <td>82</td>\n",
       "      <td>14</td>\n",
       "    </tr>\n",
       "    <tr>\n",
       "      <th>1</th>\n",
       "      <td>KB</td>\n",
       "      <td>1876</td>\n",
       "      <td>413</td>\n",
       "      <td>553</td>\n",
       "      <td>418</td>\n",
       "      <td>165</td>\n",
       "      <td>56</td>\n",
       "    </tr>\n",
       "    <tr>\n",
       "      <th>2</th>\n",
       "      <td>KE</td>\n",
       "      <td>1053</td>\n",
       "      <td>275</td>\n",
       "      <td>497</td>\n",
       "      <td>428</td>\n",
       "      <td>192</td>\n",
       "      <td>66</td>\n",
       "    </tr>\n",
       "    <tr>\n",
       "      <th>3</th>\n",
       "      <td>KS</td>\n",
       "      <td>1552</td>\n",
       "      <td>243</td>\n",
       "      <td>381</td>\n",
       "      <td>271</td>\n",
       "      <td>97</td>\n",
       "      <td>16</td>\n",
       "    </tr>\n",
       "    <tr>\n",
       "      <th>4</th>\n",
       "      <td>KT</td>\n",
       "      <td>163</td>\n",
       "      <td>41</td>\n",
       "      <td>53</td>\n",
       "      <td>29</td>\n",
       "      <td>8</td>\n",
       "      <td>0</td>\n",
       "    </tr>\n",
       "  </tbody>\n",
       "</table>\n",
       "</div>"
      ],
      "text/plain": [
       "  2007  BECARIO  ASISTENTES  ADJUNTOS  INDEPENDIENTES  PRINCIPALES  SUPERIORES\n",
       "0   KA      955         237       313             209           82          14\n",
       "1   KB     1876         413       553             418          165          56\n",
       "2   KE     1053         275       497             428          192          66\n",
       "3   KS     1552         243       381             271           97          16\n",
       "4   KT      163          41        53              29            8           0"
      ]
     },
     "execution_count": 74,
     "metadata": {},
     "output_type": "execute_result"
    }
   ],
   "source": [
    "import pandas as pd\n",
    "data = pd.read_csv ('investigadores-2007.csv', sep = \",\", comment = '#')\n",
    "data # Se accede a cada columna mediante: data[0], data[1], ...\n",
    "\n",
    "# Datos de https://cifras.conicet.gov.ar/publica/\n",
    "# KA: CIENCIAS AGRARIAS, DE LA INGENIERÍA Y DE MATERIALES\n",
    "# KB: CIENCIAS BIÓLOGICAS Y DE LA SALUD\n",
    "# KE: CIENCIAS EXACTAS Y NATURALES\n",
    "# KS: CIENCIAS SOCIALES Y HUMANIDADES\n",
    "# KT: TECNOLOGÍA"
   ]
  },
  {
   "cell_type": "markdown",
   "metadata": {},
   "source": [
    "En el siguiente ejemplo importamos el módulo ```matplotlib``` para graficar.\n",
    "<a id='ejemplo'></a>"
   ]
  },
  {
   "cell_type": "code",
   "execution_count": 75,
   "metadata": {},
   "outputs": [
    {
     "data": {
      "image/png": "[encoded data removed]",
      "text/plain": [
       "<Figure size 400x400 with 1 Axes>"
      ]
     },
     "metadata": {
      "needs_background": "light"
     },
     "output_type": "display_data"
    }
   ],
   "source": [
    "import matplotlib.pyplot as plt\n",
    "\n",
    "plt.rcParams['figure.figsize'] = [8, 8]\n",
    "plt.rcParams.update({'font.size': 20})\n",
    "plt.rcParams['figure.dpi'] = 50\n",
    "\n",
    "plt.title('Año 2007')\n",
    "plt.xlabel('Área de conocimiento')\n",
    "plt.ylabel('N')\n",
    "\n",
    "for column in data.columns[1:]:  # Iteración sobre los nombres de las columnas.\n",
    "    plt.plot ( '2007', column, data = data, \n",
    "              marker = 'o', markersize = 10, linewidth = 2 )\n",
    "\n",
    "plt.legend( data.columns[1:], bbox_to_anchor = (1.6,1), ncol = 1 )\n",
    "plt.show()"
   ]
  },
  {
   "cell_type": "markdown",
   "metadata": {},
   "source": [
    "<a id='integrales'></a>\n",
    "## 5. Integrales \n",
    "\n",
    "Los métodos de integración, como se imaginarán, esta contenidos dentro de distintos módulos de python.\n",
    "\n",
    "\n",
    "En el siguiente ejemplo, vamos a:\n",
    "* importar los módulos necesarios.\n",
    "* definir la función Gaussiana:\n",
    "$$ F(x) = \\frac{1}{\\sigma \\sqrt{2\\pi}}~e^{-(x-\\mu)^{2}/2\\sigma^{2}} $$\n",
    "* definir un espacio de valores para evaluar la función.\n",
    "* graficar la función para diferentes parámetros ($\\mu, \\sigma$).\n",
    "* integrar la función en un rango determinado.\n",
    "\n",
    "Notar que se usa ```np.exp(x)``` y ```np.power(x)``` para las funciones exponencial y potencia, respectivamente. De igual modo se puede usar ```np.log10(x)``` cuando tengan que pasar intensidades a magnitudes."
   ]
  },
  {
   "cell_type": "code",
   "execution_count": 76,
   "metadata": {},
   "outputs": [
    {
     "data": {
      "image/png": "[encoded data removed]",
      "text/plain": [
       "<Figure size 400x400 with 1 Axes>"
      ]
     },
     "metadata": {
      "needs_background": "light"
     },
     "output_type": "display_data"
    },
    {
     "name": "stdout",
     "output_type": "stream",
     "text": [
      "Valor de la integral =  0.5328\n"
     ]
    }
   ],
   "source": [
    "from scipy.integrate import quad\n",
    "import matplotlib.pyplot as plt\n",
    "import numpy as np\n",
    "\n",
    "def gaussian(x, mu, sig):\n",
    "    return 1./(sig*np.sqrt(2.*np.pi)) * np.exp(-np.power((x - mu)/sig, 2.)/2.)\n",
    "\n",
    "x_values = np.linspace(-3, 3, 10) # Valor inicial, valor final, cantidad total de valores intermedios\n",
    "for mu, sig in [(-1, 1), (0, 2), (2, 3)]:\n",
    "    plt.plot(x_values, gaussian(x_values, mu, sig))\n",
    "\n",
    "plt.xlabel('x')\n",
    "plt.ylabel('y')\n",
    "    \n",
    "plt.fill_between(np.linspace(-1, 2, 10), 0, gaussian(np.linspace(-1, 2, 10), 0,2), interpolate=True)\n",
    "\n",
    "plt.show()\n",
    "\n",
    "# Hacemos la integral\n",
    "int, err = quad( gaussian, -1, 2, args=(0,2) )\n",
    "print ( \"Valor de la integral = \", round(int,4))"
   ]
  },
  {
   "cell_type": "markdown",
   "metadata": {},
   "source": [
    "# Ejercicios:\n",
    "En el directorio en el que se encuentra este _notebook_, también tienen el archivo ```investigadores-2019.csv```."
   ]
  },
  {
   "cell_type": "code",
   "execution_count": 77,
   "metadata": {},
   "outputs": [
    {
     "name": "stdout",
     "output_type": "stream",
     "text": [
      "investigadores-2019.csv\r\n"
     ]
    }
   ],
   "source": [
    "ls investigadores-2019.csv # El comando 'ls' lista el contenido del directorio de trabajo."
   ]
  },
  {
   "cell_type": "markdown",
   "metadata": {},
   "source": [
    "#### 1. Utilicen el archivo anterior (que corresponde al año 2019) para hacer el mismo grafico que en el [ejemplo](#ejemplo)."
   ]
  },
  {
   "cell_type": "code",
   "execution_count": 78,
   "metadata": {},
   "outputs": [],
   "source": [
    "# editame"
   ]
  },
  {
   "cell_type": "markdown",
   "metadata": {},
   "source": [
    "#### 2. Grafique la función seno (``` np.sin()```), entre $-\\pi$ y $2 \\pi$; e intégrela entre $0$ y $\\pi$.\n",
    "\n",
    "$$\\int_{0}^{\\pi} sen(x)~dx$$\n",
    "\n",
    "#### Asigne el resultado de la integral anterior a la variable ```resultado```.\n"
   ]
  },
  {
   "cell_type": "code",
   "execution_count": null,
   "metadata": {},
   "outputs": [],
   "source": [
    "# editame"
   ]
  },
  {
   "cell_type": "markdown",
   "metadata": {},
   "source": [
    "[<span style=\"float:right; font-size:2em;color:black;\">Volver al inicio</span>](#introduccion)"
   ]
  },
  {
   "cell_type": "markdown",
   "metadata": {},
   "source": [
    "<img src=\"es_todo_por_hoy.jpg\" width=30% />\n",
    "\n",
    "\n"
   ]
  }
 ],
 "metadata": {
  "kernelspec": {
   "display_name": "Python 3",
   "language": "python",
   "name": "python3"
  },
  "language_info": {
   "codemirror_mode": {
    "name": "ipython",
    "version": 3
   },
   "file_extension": ".py",
   "mimetype": "text/x-python",
   "name": "python",
   "nbconvert_exporter": "python",
   "pygments_lexer": "ipython3",
   "version": "3.7.7"
  }
 },
 "nbformat": 4,
 "nbformat_minor": 4
}
